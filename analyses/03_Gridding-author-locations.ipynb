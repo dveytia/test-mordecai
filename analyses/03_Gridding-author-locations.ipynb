{
 "cells": [
  {
   "cell_type": "markdown",
   "id": "df2945f8-32ea-440b-acfd-4ba9b6984a02",
   "metadata": {},
   "source": [
    "# Gridding author locations\n",
    "\n",
    "Similar to analysis step 2, this code will take corresponding author affiliation locations, and grid them. "
   ]
  }
 ],
 "metadata": {
  "kernelspec": {
   "display_name": "mordecai_env_3.8",
   "language": "python",
   "name": "mordecai_env_3.8"
  },
  "language_info": {
   "codemirror_mode": {
    "name": "ipython",
    "version": 3
   },
   "file_extension": ".py",
   "mimetype": "text/x-python",
   "name": "python",
   "nbconvert_exporter": "python",
   "pygments_lexer": "ipython3",
   "version": "3.8.10"
  }
 },
 "nbformat": 4,
 "nbformat_minor": 5
}
