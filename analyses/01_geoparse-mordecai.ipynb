{
 "cells": [
  {
   "cell_type": "markdown",
   "id": "a370953a-70c3-4b93-bb2f-512ec230a9bf",
   "metadata": {},
   "source": [
    "Analysis reads in title and abstract data from file, runs mordecai and returns a data frame with unique locations for each entry\n",
    "\n",
    "*Note* is it posisble to save as an sqlite file instead?"
   ]
  },
  {
   "cell_type": "code",
   "execution_count": 1,
   "id": "11a9d609-675e-498a-8c28-457d1504fb2f",
   "metadata": {},
   "outputs": [
    {
     "name": "stdout",
     "output_type": "stream",
     "text": [
      "Models path: C:\\Users\\deviv\\anaconda3\\envs\\mordecai_env_3.8\\lib\\site-packages\\mordecai\\models\\\n"
     ]
    }
   ],
   "source": [
    "# Set up mordecai geoparser\n",
    "from mordecai import Geoparser\n",
    "geo = Geoparser()"
   ]
  },
  {
   "cell_type": "code",
   "execution_count": 2,
   "id": "e4347921-0829-42e3-9f8b-7d9bebaf84d4",
   "metadata": {},
   "outputs": [],
   "source": [
    "# Import other packages\n",
    "import pandas as pd\n",
    "import pickle\n",
    "import os"
   ]
  },
  {
   "cell_type": "code",
   "execution_count": null,
   "id": "89551360-a972-43dc-9f00-deee2e9bdf23",
   "metadata": {},
   "outputs": [],
   "source": [
    "## Read in geoparsing data\n",
    "df = pd.read_csv(\"\\\\\".join([os.getcwd(),\"data\",\"raw-data\",\"test-file.csv\"]))\n",
    "\n",
    "# combine title and abstract text into one variable\n",
    "df['text'] = df['title'] + df['abstract']\n",
    "\n",
    "# summarise\n",
    "df.head()\n",
    "df.shape"
   ]
  },
  {
   "cell_type": "code",
   "execution_count": null,
   "id": "3915ca06-684a-4b1a-ae29-1132220d3b53",
   "metadata": {},
   "outputs": [],
   "source": [
    "## Geoparse the text and add results as a new column \"geoparse\"\n",
    "\n",
    "df[\"geoparse\"] = [geo.geoparse(x) for x in df[\"text\"].astype('str')]"
   ]
  },
  {
   "cell_type": "code",
   "execution_count": null,
   "id": "b3376c37-2968-4672-97d6-b32318cf3a05",
   "metadata": {},
   "outputs": [],
   "source": [
    "## Format dataframe\n",
    "\n",
    "# create new formatted dataframe: df_clean\n",
    "def flat_df(df):\n",
    "    df_geo = df[df[\"geoparse\"].str.len() != 0] #subset where geoparse string is not empty\n",
    "    df_geo = df_geo.explode('geoparse') #Transforms each element of a list to a row and replicates index and all other columns. When more than one place name appears it creates more than one row.\n",
    "    df_geo = pd.concat([df_geo.drop(['geoparse'], axis=1), df_geo['geoparse'].apply(pd.Series)], axis=1) #Extract from dic\n",
    "    df_geo = pd.concat([df_geo.drop(['geo'], axis=1), df_geo['geo'].apply(pd.Series)], axis=1)\n",
    "    df_geo = df_geo[df_geo['lat'].notnull()] #Removing empty latitude rows\n",
    "    df_geo.lat = df_geo.lat.astype(float) #Transforms to float\n",
    "    df_geo.lon =df_geo.lon.astype(float) #Transforms to float\n",
    "    return df_geo\n",
    "    \n",
    "df_clean = flat_df(df)\n",
    "print(df_clean.dtypes)\n",
    "print(df_clean[0:5])\n",
    "df_clean.head(5)"
   ]
  },
  {
   "cell_type": "code",
   "execution_count": null,
   "id": "626895ed-6962-4f91-b190-036aa9b56afb",
   "metadata": {},
   "outputs": [],
   "source": [
    "## Save as a .csv\n",
    "df_clean.to_csv(\"\\\\\".join([os.getcwd(),\"outputs\",\"geoparsed-records.csv\"]), index=False)"
   ]
  }
 ],
 "metadata": {
  "kernelspec": {
   "display_name": "envname",
   "language": "python",
   "name": "envname"
  },
  "language_info": {
   "codemirror_mode": {
    "name": "ipython",
    "version": 3
   },
   "file_extension": ".py",
   "mimetype": "text/x-python",
   "name": "python",
   "nbconvert_exporter": "python",
   "pygments_lexer": "ipython3",
   "version": "3.8.16"
  }
 },
 "nbformat": 4,
 "nbformat_minor": 5
}
