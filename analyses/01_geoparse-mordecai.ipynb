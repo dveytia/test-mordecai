{
 "cells": [
  {
   "cell_type": "markdown",
   "id": "a370953a-70c3-4b93-bb2f-512ec230a9bf",
   "metadata": {},
   "source": [
    "# 01 Geoparsing using mordecai\n",
    "\n",
    "Analysis reads in title and abstract data from file, runs mordecai and returns a data frame with unique locations for each entry\n",
    "\n",
    "*Note* This code only works when running on the envname kernel, which was created from the mordecai_env_XXXXXX.yml file (details of modules also in requirements.txt)."
   ]
  },
  {
   "cell_type": "markdown",
   "id": "8280657f-ba54-41e5-8f02-a870a742962e",
   "metadata": {},
   "source": [
    "## Set up: import modules and read in data"
   ]
  },
  {
   "cell_type": "code",
   "execution_count": 1,
   "id": "11a9d609-675e-498a-8c28-457d1504fb2f",
   "metadata": {},
   "outputs": [
    {
     "name": "stderr",
     "output_type": "stream",
     "text": [
      "2023-08-03 10:00:20.525968: I tensorflow/core/platform/cpu_feature_guard.cc:193] This TensorFlow binary is optimized with oneAPI Deep Neural Network Library (oneDNN) to use the following CPU instructions in performance-critical operations:  AVX2 AVX512F AVX512_VNNI FMA\n",
      "To enable them in other operations, rebuild TensorFlow with the appropriate compiler flags.\n",
      "2023-08-03 10:00:20.719612: I tensorflow/core/util/port.cc:104] oneDNN custom operations are on. You may see slightly different numerical results due to floating-point round-off errors from different computation orders. To turn them off, set the environment variable `TF_ENABLE_ONEDNN_OPTS=0`.\n",
      "2023-08-03 10:00:21.671367: W tensorflow/compiler/xla/stream_executor/platform/default/dso_loader.cc:64] Could not load dynamic library 'libnvinfer.so.7'; dlerror: libnvinfer.so.7: cannot open shared object file: No such file or directory\n",
      "2023-08-03 10:00:21.671517: W tensorflow/compiler/xla/stream_executor/platform/default/dso_loader.cc:64] Could not load dynamic library 'libnvinfer_plugin.so.7'; dlerror: libnvinfer_plugin.so.7: cannot open shared object file: No such file or directory\n",
      "2023-08-03 10:00:21.671531: W tensorflow/compiler/tf2tensorrt/utils/py_utils.cc:38] TF-TRT Warning: Cannot dlopen some TensorRT libraries. If you would like to use Nvidia GPU with TensorRT, please make sure the missing libraries mentioned above are installed properly.\n"
     ]
    },
    {
     "name": "stdout",
     "output_type": "stream",
     "text": [
      "Models path: /home/dveytia/.local/lib/python3.8/site-packages/mordecai/models/\n"
     ]
    },
    {
     "name": "stderr",
     "output_type": "stream",
     "text": [
      "2023-08-03 10:00:34.542874: W tensorflow/compiler/xla/stream_executor/platform/default/dso_loader.cc:64] Could not load dynamic library 'libcudnn.so.8'; dlerror: libcudnn.so.8: cannot open shared object file: No such file or directory\n",
      "2023-08-03 10:00:34.542914: W tensorflow/core/common_runtime/gpu/gpu_device.cc:1934] Cannot dlopen some GPU libraries. Please make sure the missing libraries mentioned above are installed properly if you would like to use GPU. Follow the guide at https://www.tensorflow.org/install/gpu for how to download and setup the required libraries for your platform.\n",
      "Skipping registering GPU devices...\n",
      "2023-08-03 10:00:34.543660: I tensorflow/core/platform/cpu_feature_guard.cc:193] This TensorFlow binary is optimized with oneAPI Deep Neural Network Library (oneDNN) to use the following CPU instructions in performance-critical operations:  AVX2 AVX512F AVX512_VNNI FMA\n",
      "To enable them in other operations, rebuild TensorFlow with the appropriate compiler flags.\n"
     ]
    }
   ],
   "source": [
    "## Set up mordecai geoparser\n",
    "from mordecai import Geoparser\n",
    "geo = Geoparser()"
   ]
  },
  {
   "cell_type": "code",
   "execution_count": 2,
   "id": "a6d3843a-5ab8-4b3d-841a-e96a146edbd1",
   "metadata": {},
   "outputs": [
    {
     "name": "stdout",
     "output_type": "stream",
     "text": [
      "1/1 [==============================] - 0s 149ms/step\n",
      "1/1 [==============================] - 0s 22ms/step\n",
      "1/1 [==============================] - 0s 24ms/step\n",
      "1/1 [==============================] - 0s 61ms/step\n",
      "1/1 [==============================] - 0s 22ms/step\n"
     ]
    },
    {
     "data": {
      "text/plain": [
       "[{'word': 'Oxford',\n",
       "  'spans': [{'start': 16, 'end': 22}],\n",
       "  'country_predicted': 'GBR',\n",
       "  'country_conf': 0.95718795,\n",
       "  'geo': {'admin1': 'England',\n",
       "   'lat': '51.75222',\n",
       "   'lon': '-1.25596',\n",
       "   'country_code3': 'GBR',\n",
       "   'geonameid': '2640729',\n",
       "   'place_name': 'Oxford',\n",
       "   'feature_class': 'P',\n",
       "   'feature_code': 'PPLA2'}},\n",
       " {'word': 'Ottawa',\n",
       "  'spans': [{'start': 26, 'end': 32}],\n",
       "  'country_predicted': 'CAN',\n",
       "  'country_conf': 0.87992215,\n",
       "  'geo': {'admin1': 'Ontario',\n",
       "   'lat': '45.41117',\n",
       "   'lon': '-75.69812',\n",
       "   'country_code3': 'CAN',\n",
       "   'geonameid': '6094817',\n",
       "   'place_name': 'Ottawa',\n",
       "   'feature_class': 'P',\n",
       "   'feature_code': 'PPLC'}}]"
      ]
     },
     "execution_count": 2,
     "metadata": {},
     "output_type": "execute_result"
    }
   ],
   "source": [
    "# test mordecai\n",
    "geo.geoparse(\"I traveled from Oxford to Ottawa.\")"
   ]
  },
  {
   "cell_type": "code",
   "execution_count": 3,
   "id": "e4347921-0829-42e3-9f8b-7d9bebaf84d4",
   "metadata": {},
   "outputs": [],
   "source": [
    "## Import other modules\n",
    "import pandas as pd\n",
    "import pickle\n",
    "import os\n",
    "import sqlite3\n",
    "from multiprocessing.pool import ThreadPool as Pool"
   ]
  },
  {
   "cell_type": "code",
   "execution_count": 7,
   "id": "89551360-a972-43dc-9f00-deee2e9bdf23",
   "metadata": {},
   "outputs": [
    {
     "data": {
      "text/plain": [
       "(100, 6)"
      ]
     },
     "execution_count": 7,
     "metadata": {},
     "output_type": "execute_result"
    }
   ],
   "source": [
    "## Read in test geoparsing data\n",
    "#df = pd.read_csv('C:\\\\Users\\\\deviv\\\\Python-working-folder\\\\test-mordecai\\\\data\\\\raw-data\\\\test-geocode-text.csv')\n",
    "\n",
    "# combine title and abstract text into one variable\n",
    "#df['text'] = df['title'] + df['abstract']\n"
   ]
  },
  {
   "cell_type": "code",
   "execution_count": 2,
   "id": "5b9c63bc-7ea5-4e08-bfd9-3c0600876dba",
   "metadata": {},
   "outputs": [
    {
     "ename": "OperationalError",
     "evalue": "unable to open database file",
     "output_type": "error",
     "traceback": [
      "\u001b[1;31m---------------------------------------------------------------------------\u001b[0m",
      "\u001b[1;31mOperationalError\u001b[0m                          Traceback (most recent call last)",
      "\u001b[1;32m~\\AppData\\Local\\Temp\\ipykernel_18484\\1321182346.py\u001b[0m in \u001b[0;36m<cell line: 2>\u001b[1;34m()\u001b[0m\n\u001b[0;32m      1\u001b[0m \u001b[1;31m## Read in the relevance predictions\u001b[0m\u001b[1;33m\u001b[0m\u001b[1;33m\u001b[0m\u001b[1;33m\u001b[0m\u001b[0m\n\u001b[1;32m----> 2\u001b[1;33m \u001b[0mrelPredCon\u001b[0m \u001b[1;33m=\u001b[0m \u001b[0msqlite3\u001b[0m\u001b[1;33m.\u001b[0m\u001b[0mconnect\u001b[0m\u001b[1;33m(\u001b[0m\u001b[1;34m\"\\\\\"\u001b[0m\u001b[1;33m.\u001b[0m\u001b[0mjoin\u001b[0m\u001b[1;33m(\u001b[0m\u001b[1;33m[\u001b[0m\u001b[1;34m\"C:\"\u001b[0m\u001b[1;33m,\u001b[0m\u001b[1;34m\"Users\"\u001b[0m\u001b[1;33m,\u001b[0m\u001b[1;34m\"deviv\"\u001b[0m\u001b[1;33m,\u001b[0m\u001b[1;34m\"Python-working-folder\"\u001b[0m\u001b[1;33m,\u001b[0m\u001b[1;34m\"test-mordecai\"\u001b[0m\u001b[1;33m,\u001b[0m\u001b[1;34m\"data\"\u001b[0m\u001b[1;33m,\u001b[0m\u001b[1;34m\"raw-data\"\u001b[0m\u001b[1;33m,\u001b[0m\u001b[1;34m\"sql-databases\"\u001b[0m\u001b[1;33m,\u001b[0m\u001b[1;34m\"relevance-predictions.sqlite\"\u001b[0m\u001b[1;33m]\u001b[0m\u001b[1;33m)\u001b[0m\u001b[1;33m)\u001b[0m\u001b[1;33m\u001b[0m\u001b[1;33m\u001b[0m\u001b[0m\n\u001b[0m\u001b[0;32m      3\u001b[0m \u001b[1;33m\u001b[0m\u001b[0m\n\u001b[0;32m      4\u001b[0m \u001b[0mrelPred_df\u001b[0m \u001b[1;33m=\u001b[0m \u001b[0mpd\u001b[0m\u001b[1;33m.\u001b[0m\u001b[0mread_sql_query\u001b[0m\u001b[1;33m(\u001b[0m\u001b[1;34m\"SELECT * from predRel\"\u001b[0m\u001b[1;33m,\u001b[0m \u001b[0mrelPredCon\u001b[0m\u001b[1;33m)\u001b[0m\u001b[1;33m\u001b[0m\u001b[1;33m\u001b[0m\u001b[0m\n\u001b[0;32m      5\u001b[0m \u001b[1;33m\u001b[0m\u001b[0m\n",
      "\u001b[1;31mOperationalError\u001b[0m: unable to open database file"
     ]
    }
   ],
   "source": [
    "## Read in the relevance predictions\n",
    "relPredCon = sqlite3.connect(\"\\\\\".join([\"C:\",\"Users\",\"deviv\",\"Python-working-folder\",\"test-mordecai\",\"data\",\"raw-data\",\"sql-databases\",\"relevance-predictions.sqlite\"]))\n",
    "\n",
    "relPred_df = pd.read_sql_query(\"SELECT * from predRel\", relPredCon)\n",
    "\n",
    "# if needed, check table names:\n",
    "#cursor = relPredCon.cursor()\n",
    "#cursor.execute(\"SELECT name FROM sqlite_master WHERE type='table';\")\n",
    "#print(cursor.fetchall())\n",
    "\n",
    "# transform analysis_id column\n",
    "relPred_df.analysis_id = relPred_df.analysis_id.astype(int)\n",
    "\n",
    "relPredCon.close()\n",
    "relPred_df.head()"
   ]
  },
  {
   "cell_type": "code",
   "execution_count": 3,
   "id": "00132351-cf80-4c4f-a538-09807a108682",
   "metadata": {},
   "outputs": [
    {
     "ename": "OperationalError",
     "evalue": "unable to open database file",
     "output_type": "error",
     "traceback": [
      "\u001b[1;31m---------------------------------------------------------------------------\u001b[0m",
      "\u001b[1;31mOperationalError\u001b[0m                          Traceback (most recent call last)",
      "\u001b[1;32m~\\AppData\\Local\\Temp\\ipykernel_18484\\4093102655.py\u001b[0m in \u001b[0;36m<cell line: 2>\u001b[1;34m()\u001b[0m\n\u001b[0;32m      1\u001b[0m \u001b[1;31m## Read in the metadata for all the unique references\u001b[0m\u001b[1;33m\u001b[0m\u001b[1;33m\u001b[0m\u001b[1;33m\u001b[0m\u001b[0m\n\u001b[1;32m----> 2\u001b[1;33m \u001b[0muniqueRefsCon\u001b[0m \u001b[1;33m=\u001b[0m \u001b[0msqlite3\u001b[0m\u001b[1;33m.\u001b[0m\u001b[0mconnect\u001b[0m\u001b[1;33m(\u001b[0m\u001b[1;34m\"\\\\\"\u001b[0m\u001b[1;33m.\u001b[0m\u001b[0mjoin\u001b[0m\u001b[1;33m(\u001b[0m\u001b[1;33m[\u001b[0m\u001b[1;34m\"C:\"\u001b[0m\u001b[1;33m,\u001b[0m\u001b[1;34m\"Users\"\u001b[0m\u001b[1;33m,\u001b[0m\u001b[1;34m\"deviv\"\u001b[0m\u001b[1;33m,\u001b[0m\u001b[1;34m\"Python-working-folder\"\u001b[0m\u001b[1;33m,\u001b[0m\u001b[1;34m\"test-mordecai\"\u001b[0m\u001b[1;33m,\u001b[0m\u001b[1;34m\"data\"\u001b[0m\u001b[1;33m,\u001b[0m\u001b[1;34m\"raw-data\"\u001b[0m\u001b[1;33m,\u001b[0m\u001b[1;34m\"sql-databases\"\u001b[0m\u001b[1;33m,\u001b[0m\u001b[1;34m\"unique-refs_v2.sqlite\"\u001b[0m\u001b[1;33m]\u001b[0m\u001b[1;33m)\u001b[0m\u001b[1;33m)\u001b[0m\u001b[1;33m\u001b[0m\u001b[1;33m\u001b[0m\u001b[0m\n\u001b[0m\u001b[0;32m      3\u001b[0m \u001b[1;33m\u001b[0m\u001b[0m\n\u001b[0;32m      4\u001b[0m \u001b[1;31m## add relevance predictions as a table to the new database\u001b[0m\u001b[1;33m\u001b[0m\u001b[1;33m\u001b[0m\u001b[1;33m\u001b[0m\u001b[0m\n\u001b[0;32m      5\u001b[0m \u001b[1;31m#relPred_df.to_sql(\"predRel\", uniqueRefsCon, if_exists=\"replace\")\u001b[0m\u001b[1;33m\u001b[0m\u001b[1;33m\u001b[0m\u001b[1;33m\u001b[0m\u001b[0m\n",
      "\u001b[1;31mOperationalError\u001b[0m: unable to open database file"
     ]
    }
   ],
   "source": [
    "## Read in the metadata for all the unique references\n",
    "uniqueRefsCon = sqlite3.connect(\"\\\\\".join([\"C:\",\"Users\",\"deviv\",\"Python-working-folder\",\"test-mordecai\",\"data\",\"raw-data\",\"sql-databases\",\"unique-refs_v2.sqlite\"]))\n",
    "\n",
    "## add relevance predictions as a table to the new database\n",
    "#relPred_df.to_sql(\"predRel\", uniqueRefsCon, if_exists=\"replace\")\n",
    "\n",
    "# print \n",
    "uniqueRefs_df = pd.read_sql_query(\"SELECT analysis_id, duplicate_id, title, abstract FROM uniquerefs\", uniqueRefsCon)\n",
    "\n",
    "# transform analysis_id column\n",
    "uniqueRefs_df.analysis_id = uniqueRefs_df.analysis_id.astype(int)\n",
    "\n",
    "## close connections\n",
    "uniqueRefsCon.close()\n",
    "\n",
    "uniqueRefs_df.head()"
   ]
  },
  {
   "cell_type": "code",
   "execution_count": 27,
   "id": "9939762e-91e7-4420-b3ad-40c680a2ad1e",
   "metadata": {},
   "outputs": [
    {
     "data": {
      "text/plain": [
       "(269481, 4)"
      ]
     },
     "execution_count": 27,
     "metadata": {},
     "output_type": "execute_result"
    }
   ],
   "source": [
    "uniqueRefs_df.shape"
   ]
  },
  {
   "cell_type": "code",
   "execution_count": 34,
   "id": "1374e096-2c13-4518-bc8e-1ac85117104d",
   "metadata": {},
   "outputs": [
    {
     "data": {
      "text/plain": [
       "73928"
      ]
     },
     "execution_count": 34,
     "metadata": {},
     "output_type": "execute_result"
    }
   ],
   "source": [
    "## subset relevance predctions to >= 0.5\n",
    "relPred_df = relPred_df[0.5 <= relPred_df['relevance_mean']]\n",
    "len(relPred_df)"
   ]
  },
  {
   "cell_type": "code",
   "execution_count": 41,
   "id": "a98df418-9a35-4605-90a3-a7ecfd5d6f7b",
   "metadata": {},
   "outputs": [
    {
     "data": {
      "text/html": [
       "<div>\n",
       "<style scoped>\n",
       "    .dataframe tbody tr th:only-of-type {\n",
       "        vertical-align: middle;\n",
       "    }\n",
       "\n",
       "    .dataframe tbody tr th {\n",
       "        vertical-align: top;\n",
       "    }\n",
       "\n",
       "    .dataframe thead th {\n",
       "        text-align: right;\n",
       "    }\n",
       "</style>\n",
       "<table border=\"1\" class=\"dataframe\">\n",
       "  <thead>\n",
       "    <tr style=\"text-align: right;\">\n",
       "      <th></th>\n",
       "      <th>relevance_mean</th>\n",
       "      <th>relevance_std</th>\n",
       "      <th>relevance_lower</th>\n",
       "      <th>relevance_upper</th>\n",
       "      <th>duplicate_id</th>\n",
       "      <th>title</th>\n",
       "      <th>abstract</th>\n",
       "    </tr>\n",
       "    <tr>\n",
       "      <th>analysis_id</th>\n",
       "      <th></th>\n",
       "      <th></th>\n",
       "      <th></th>\n",
       "      <th></th>\n",
       "      <th></th>\n",
       "      <th></th>\n",
       "      <th></th>\n",
       "    </tr>\n",
       "  </thead>\n",
       "  <tbody>\n",
       "    <tr>\n",
       "      <th>230304</th>\n",
       "      <td>0.987904</td>\n",
       "      <td>0.005010</td>\n",
       "      <td>0.982894</td>\n",
       "      <td>0.992913</td>\n",
       "      <td>2021.19382</td>\n",
       "      <td>Tidal energy site characterisation in a large ...</td>\n",
       "      <td>Banks Strait is a 15 km wide tidal channel in ...</td>\n",
       "    </tr>\n",
       "    <tr>\n",
       "      <th>311856</th>\n",
       "      <td>0.924882</td>\n",
       "      <td>0.172907</td>\n",
       "      <td>0.751975</td>\n",
       "      <td>1.000000</td>\n",
       "      <td>2020.20552</td>\n",
       "      <td>Integrated production system modelling and opt...</td>\n",
       "      <td>Objective/Scope: Applicability of Enhanced Oil...</td>\n",
       "    </tr>\n",
       "    <tr>\n",
       "      <th>354126</th>\n",
       "      <td>0.967163</td>\n",
       "      <td>0.024341</td>\n",
       "      <td>0.942821</td>\n",
       "      <td>0.991504</td>\n",
       "      <td>2011.10628</td>\n",
       "      <td>RINA, Royal Institution of Naval Architects - ...</td>\n",
       "      <td>The proceedings contain 14 papers. The topics ...</td>\n",
       "    </tr>\n",
       "    <tr>\n",
       "      <th>39779</th>\n",
       "      <td>0.625630</td>\n",
       "      <td>0.303433</td>\n",
       "      <td>0.322197</td>\n",
       "      <td>0.929063</td>\n",
       "      <td>2014.2024</td>\n",
       "      <td>Population health in the Anthropocene: Gains, ...</td>\n",
       "      <td>The health of human populations, measured by l...</td>\n",
       "    </tr>\n",
       "    <tr>\n",
       "      <th>61009</th>\n",
       "      <td>0.989180</td>\n",
       "      <td>0.004243</td>\n",
       "      <td>0.984937</td>\n",
       "      <td>0.993422</td>\n",
       "      <td>2016.3747</td>\n",
       "      <td>Seagrass, mangrove and saltmarsh sedimentary c...</td>\n",
       "      <td>Coastal vegetation (seagrass, mangrove and sal...</td>\n",
       "    </tr>\n",
       "  </tbody>\n",
       "</table>\n",
       "</div>"
      ],
      "text/plain": [
       "             relevance_mean  relevance_std  relevance_lower  relevance_upper  \\\n",
       "analysis_id                                                                    \n",
       "230304             0.987904       0.005010         0.982894         0.992913   \n",
       "311856             0.924882       0.172907         0.751975         1.000000   \n",
       "354126             0.967163       0.024341         0.942821         0.991504   \n",
       "39779              0.625630       0.303433         0.322197         0.929063   \n",
       "61009              0.989180       0.004243         0.984937         0.993422   \n",
       "\n",
       "            duplicate_id                                              title  \\\n",
       "analysis_id                                                                   \n",
       "230304        2021.19382  Tidal energy site characterisation in a large ...   \n",
       "311856        2020.20552  Integrated production system modelling and opt...   \n",
       "354126        2011.10628  RINA, Royal Institution of Naval Architects - ...   \n",
       "39779          2014.2024  Population health in the Anthropocene: Gains, ...   \n",
       "61009          2016.3747  Seagrass, mangrove and saltmarsh sedimentary c...   \n",
       "\n",
       "                                                      abstract  \n",
       "analysis_id                                                     \n",
       "230304       Banks Strait is a 15 km wide tidal channel in ...  \n",
       "311856       Objective/Scope: Applicability of Enhanced Oil...  \n",
       "354126       The proceedings contain 14 papers. The topics ...  \n",
       "39779        The health of human populations, measured by l...  \n",
       "61009        Coastal vegetation (seagrass, mangrove and sal...  "
      ]
     },
     "execution_count": 41,
     "metadata": {},
     "output_type": "execute_result"
    }
   ],
   "source": [
    "## JOIN the relevance predictions with the text data\n",
    "df = relPred_df.set_index('analysis_id').join(uniqueRefs_df.set_index('analysis_id'), how = \"left\", lsuffix = \"_rel\", rsuffix = \"_refs\")\n",
    "#df = relPred_df.join(uniqueRefs_df, on=\"analysis_id\", how = \"left\", lsuffix = \"_rel\", rsuffix = \"_refs\")\n",
    "df.head()"
   ]
  },
  {
   "cell_type": "code",
   "execution_count": 42,
   "id": "3cdac10b-cff4-4a47-9884-94928346ee12",
   "metadata": {},
   "outputs": [
    {
     "data": {
      "text/plain": [
       "(73928, 7)"
      ]
     },
     "execution_count": 42,
     "metadata": {},
     "output_type": "execute_result"
    }
   ],
   "source": [
    "df.shape # also get the dimensions -- for some reason I don't have matches for all the relevance predictions 36477 as opposed to 73928??"
   ]
  },
  {
   "cell_type": "code",
   "execution_count": 21,
   "id": "cda000af-e5d6-4bc2-8f70-ba0cea4e9090",
   "metadata": {},
   "outputs": [],
   "source": [
    "## Create another column with title and abstract combined to Geoparse\n",
    "df['text'] = df['title'] + df['abstract']\n",
    "\n",
    "# replace \"the United States\" with \"United States\" to avoid returning the virgin islands\n",
    "# the (?i) means it is case insensitive\n",
    "df['text'] = df.text.replace(\"(?i)the (?i)United (?i)States\", \"United States\", regex=True) \n",
    "\n",
    "## alternte, but both ways work\n",
    "# df['text'] = df['text'].str.replace(\"the United States\", \"United States\")"
   ]
  },
  {
   "cell_type": "markdown",
   "id": "785ed5f3-e39e-4303-8281-99031abda2a2",
   "metadata": {},
   "source": [
    "## Analysis: Geoparse data and export"
   ]
  },
  {
   "cell_type": "code",
   "execution_count": null,
   "id": "3915ca06-684a-4b1a-ae29-1132220d3b53",
   "metadata": {},
   "outputs": [],
   "source": [
    "## Geoparse the text and add results as a new column \"geoparse\"\n",
    "#df[\"geoparse\"] = [geo.geoparse(x) for x in df[\"text\"].astype('str')]"
   ]
  },
  {
   "cell_type": "code",
   "execution_count": null,
   "id": "a1e2443c-67b2-44fc-b8a4-a97d951c4d0c",
   "metadata": {},
   "outputs": [],
   "source": [
    "def geoparse_text(text):\n",
    "    return geo.geoparse(text)\n",
    "\n",
    "if __name__ = '__main__':\n",
    "    with Pool() as pool:\n",
    "        df[\"geoparse\"]=pool.map(geoparse_text,df[\"text\"].astype('str'))\n"
   ]
  },
  {
   "cell_type": "code",
   "execution_count": 9,
   "id": "b3376c37-2968-4672-97d6-b32318cf3a05",
   "metadata": {
    "tags": []
   },
   "outputs": [
    {
     "name": "stdout",
     "output_type": "stream",
     "text": [
      "Unnamed: 0             int64\n",
      "analysis_id            int64\n",
      "duplicate_id         float64\n",
      "title                 object\n",
      "abstract              object\n",
      "text                  object\n",
      "word                  object\n",
      "spans                 object\n",
      "country_predicted     object\n",
      "country_conf         float32\n",
      "admin1                object\n",
      "lat                  float64\n",
      "lon                  float64\n",
      "country_code3         object\n",
      "geonameid             object\n",
      "place_name            object\n",
      "feature_class         object\n",
      "feature_code          object\n",
      "0                    float64\n",
      "dtype: object\n",
      "   Unnamed: 0  analysis_id  duplicate_id  \\\n",
      "1           2        77239     2004.2448   \n",
      "3           4       141394     2017.7856   \n",
      "3           4       141394     2017.7856   \n",
      "3           4       141394     2017.7856   \n",
      "4           5       172949     2012.3571   \n",
      "\n",
      "                                               title  \\\n",
      "1  Organochlorine contaminants in sea turtles: Co...   \n",
      "3  New resource for population genetics studies o...   \n",
      "3  New resource for population genetics studies o...   \n",
      "3  New resource for population genetics studies o...   \n",
      "4  Long-term trends of coral imports into the Uni...   \n",
      "\n",
      "                                            abstract  \\\n",
      "1  Monitoring toxic organochlorine (OC) compounds...   \n",
      "3  The Australasian fucoid, Hormosira banksii, co...   \n",
      "3  The Australasian fucoid, Hormosira banksii, co...   \n",
      "3  The Australasian fucoid, Hormosira banksii, co...   \n",
      "4  The international trade in corals used to be p...   \n",
      "\n",
      "                                                text             word  \\\n",
      "1  Organochlorine contaminants in sea turtles: Co...             Kemp   \n",
      "3  New resource for population genetics studies o...  New South Wales   \n",
      "3  New resource for population genetics studies o...        Australia   \n",
      "3  New resource for population genetics studies o...   Hardy-Weinberg   \n",
      "4  Long-term trends of coral imports into the Uni...    United States   \n",
      "\n",
      "                            spans country_predicted  country_conf  \\\n",
      "1    [{'start': 845, 'end': 849}]               USA      0.879922   \n",
      "3    [{'start': 856, 'end': 871}]               AUS      0.906452   \n",
      "3    [{'start': 873, 'end': 882}]               AUS      0.951695   \n",
      "3  [{'start': 1146, 'end': 1160}]               USA      0.852964   \n",
      "4      [{'start': 43, 'end': 56}]               VIR      0.879922   \n",
      "\n",
      "            admin1       lat        lon country_code3 geonameid  \\\n",
      "1            Texas  32.44264  -96.22998           USA   4702914   \n",
      "3  New South Wales -33.00000  146.00000           AUS   2155400   \n",
      "3               NA -25.00000  135.00000           AUS   2077456   \n",
      "3     Pennsylvania  41.40639  -75.65667           USA   7127434   \n",
      "4               NA  18.34829  -64.98348           VIR   4796775   \n",
      "\n",
      "                                     place_name feature_class feature_code   0  \n",
      "1                                          Kemp             P          PPL NaN  \n",
      "3                      State of New South Wales             A         ADM1 NaN  \n",
      "3                     Commonwealth of Australia             A         PCLI NaN  \n",
      "3  Harry and Jeanette Weinberg Memorial Library             S         LIBR NaN  \n",
      "4           Virgin Islands of the United States             A         PCLD NaN  \n"
     ]
    },
    {
     "data": {
      "text/html": [
       "<div>\n",
       "<style scoped>\n",
       "    .dataframe tbody tr th:only-of-type {\n",
       "        vertical-align: middle;\n",
       "    }\n",
       "\n",
       "    .dataframe tbody tr th {\n",
       "        vertical-align: top;\n",
       "    }\n",
       "\n",
       "    .dataframe thead th {\n",
       "        text-align: right;\n",
       "    }\n",
       "</style>\n",
       "<table border=\"1\" class=\"dataframe\">\n",
       "  <thead>\n",
       "    <tr style=\"text-align: right;\">\n",
       "      <th></th>\n",
       "      <th>Unnamed: 0</th>\n",
       "      <th>analysis_id</th>\n",
       "      <th>duplicate_id</th>\n",
       "      <th>title</th>\n",
       "      <th>abstract</th>\n",
       "      <th>text</th>\n",
       "      <th>word</th>\n",
       "      <th>spans</th>\n",
       "      <th>country_predicted</th>\n",
       "      <th>country_conf</th>\n",
       "      <th>admin1</th>\n",
       "      <th>lat</th>\n",
       "      <th>lon</th>\n",
       "      <th>country_code3</th>\n",
       "      <th>geonameid</th>\n",
       "      <th>place_name</th>\n",
       "      <th>feature_class</th>\n",
       "      <th>feature_code</th>\n",
       "      <th>0</th>\n",
       "    </tr>\n",
       "  </thead>\n",
       "  <tbody>\n",
       "    <tr>\n",
       "      <th>1</th>\n",
       "      <td>2</td>\n",
       "      <td>77239</td>\n",
       "      <td>2004.2448</td>\n",
       "      <td>Organochlorine contaminants in sea turtles: Co...</td>\n",
       "      <td>Monitoring toxic organochlorine (OC) compounds...</td>\n",
       "      <td>Organochlorine contaminants in sea turtles: Co...</td>\n",
       "      <td>Kemp</td>\n",
       "      <td>[{'start': 845, 'end': 849}]</td>\n",
       "      <td>USA</td>\n",
       "      <td>0.879922</td>\n",
       "      <td>Texas</td>\n",
       "      <td>32.44264</td>\n",
       "      <td>-96.22998</td>\n",
       "      <td>USA</td>\n",
       "      <td>4702914</td>\n",
       "      <td>Kemp</td>\n",
       "      <td>P</td>\n",
       "      <td>PPL</td>\n",
       "      <td>NaN</td>\n",
       "    </tr>\n",
       "    <tr>\n",
       "      <th>3</th>\n",
       "      <td>4</td>\n",
       "      <td>141394</td>\n",
       "      <td>2017.7856</td>\n",
       "      <td>New resource for population genetics studies o...</td>\n",
       "      <td>The Australasian fucoid, Hormosira banksii, co...</td>\n",
       "      <td>New resource for population genetics studies o...</td>\n",
       "      <td>New South Wales</td>\n",
       "      <td>[{'start': 856, 'end': 871}]</td>\n",
       "      <td>AUS</td>\n",
       "      <td>0.906452</td>\n",
       "      <td>New South Wales</td>\n",
       "      <td>-33.00000</td>\n",
       "      <td>146.00000</td>\n",
       "      <td>AUS</td>\n",
       "      <td>2155400</td>\n",
       "      <td>State of New South Wales</td>\n",
       "      <td>A</td>\n",
       "      <td>ADM1</td>\n",
       "      <td>NaN</td>\n",
       "    </tr>\n",
       "    <tr>\n",
       "      <th>3</th>\n",
       "      <td>4</td>\n",
       "      <td>141394</td>\n",
       "      <td>2017.7856</td>\n",
       "      <td>New resource for population genetics studies o...</td>\n",
       "      <td>The Australasian fucoid, Hormosira banksii, co...</td>\n",
       "      <td>New resource for population genetics studies o...</td>\n",
       "      <td>Australia</td>\n",
       "      <td>[{'start': 873, 'end': 882}]</td>\n",
       "      <td>AUS</td>\n",
       "      <td>0.951695</td>\n",
       "      <td>NA</td>\n",
       "      <td>-25.00000</td>\n",
       "      <td>135.00000</td>\n",
       "      <td>AUS</td>\n",
       "      <td>2077456</td>\n",
       "      <td>Commonwealth of Australia</td>\n",
       "      <td>A</td>\n",
       "      <td>PCLI</td>\n",
       "      <td>NaN</td>\n",
       "    </tr>\n",
       "    <tr>\n",
       "      <th>3</th>\n",
       "      <td>4</td>\n",
       "      <td>141394</td>\n",
       "      <td>2017.7856</td>\n",
       "      <td>New resource for population genetics studies o...</td>\n",
       "      <td>The Australasian fucoid, Hormosira banksii, co...</td>\n",
       "      <td>New resource for population genetics studies o...</td>\n",
       "      <td>Hardy-Weinberg</td>\n",
       "      <td>[{'start': 1146, 'end': 1160}]</td>\n",
       "      <td>USA</td>\n",
       "      <td>0.852964</td>\n",
       "      <td>Pennsylvania</td>\n",
       "      <td>41.40639</td>\n",
       "      <td>-75.65667</td>\n",
       "      <td>USA</td>\n",
       "      <td>7127434</td>\n",
       "      <td>Harry and Jeanette Weinberg Memorial Library</td>\n",
       "      <td>S</td>\n",
       "      <td>LIBR</td>\n",
       "      <td>NaN</td>\n",
       "    </tr>\n",
       "    <tr>\n",
       "      <th>4</th>\n",
       "      <td>5</td>\n",
       "      <td>172949</td>\n",
       "      <td>2012.3571</td>\n",
       "      <td>Long-term trends of coral imports into the Uni...</td>\n",
       "      <td>The international trade in corals used to be p...</td>\n",
       "      <td>Long-term trends of coral imports into the Uni...</td>\n",
       "      <td>United States</td>\n",
       "      <td>[{'start': 43, 'end': 56}]</td>\n",
       "      <td>VIR</td>\n",
       "      <td>0.879922</td>\n",
       "      <td>NA</td>\n",
       "      <td>18.34829</td>\n",
       "      <td>-64.98348</td>\n",
       "      <td>VIR</td>\n",
       "      <td>4796775</td>\n",
       "      <td>Virgin Islands of the United States</td>\n",
       "      <td>A</td>\n",
       "      <td>PCLD</td>\n",
       "      <td>NaN</td>\n",
       "    </tr>\n",
       "  </tbody>\n",
       "</table>\n",
       "</div>"
      ],
      "text/plain": [
       "   Unnamed: 0  analysis_id  duplicate_id  \\\n",
       "1           2        77239     2004.2448   \n",
       "3           4       141394     2017.7856   \n",
       "3           4       141394     2017.7856   \n",
       "3           4       141394     2017.7856   \n",
       "4           5       172949     2012.3571   \n",
       "\n",
       "                                               title  \\\n",
       "1  Organochlorine contaminants in sea turtles: Co...   \n",
       "3  New resource for population genetics studies o...   \n",
       "3  New resource for population genetics studies o...   \n",
       "3  New resource for population genetics studies o...   \n",
       "4  Long-term trends of coral imports into the Uni...   \n",
       "\n",
       "                                            abstract  \\\n",
       "1  Monitoring toxic organochlorine (OC) compounds...   \n",
       "3  The Australasian fucoid, Hormosira banksii, co...   \n",
       "3  The Australasian fucoid, Hormosira banksii, co...   \n",
       "3  The Australasian fucoid, Hormosira banksii, co...   \n",
       "4  The international trade in corals used to be p...   \n",
       "\n",
       "                                                text             word  \\\n",
       "1  Organochlorine contaminants in sea turtles: Co...             Kemp   \n",
       "3  New resource for population genetics studies o...  New South Wales   \n",
       "3  New resource for population genetics studies o...        Australia   \n",
       "3  New resource for population genetics studies o...   Hardy-Weinberg   \n",
       "4  Long-term trends of coral imports into the Uni...    United States   \n",
       "\n",
       "                            spans country_predicted  country_conf  \\\n",
       "1    [{'start': 845, 'end': 849}]               USA      0.879922   \n",
       "3    [{'start': 856, 'end': 871}]               AUS      0.906452   \n",
       "3    [{'start': 873, 'end': 882}]               AUS      0.951695   \n",
       "3  [{'start': 1146, 'end': 1160}]               USA      0.852964   \n",
       "4      [{'start': 43, 'end': 56}]               VIR      0.879922   \n",
       "\n",
       "            admin1       lat        lon country_code3 geonameid  \\\n",
       "1            Texas  32.44264  -96.22998           USA   4702914   \n",
       "3  New South Wales -33.00000  146.00000           AUS   2155400   \n",
       "3               NA -25.00000  135.00000           AUS   2077456   \n",
       "3     Pennsylvania  41.40639  -75.65667           USA   7127434   \n",
       "4               NA  18.34829  -64.98348           VIR   4796775   \n",
       "\n",
       "                                     place_name feature_class feature_code   0  \n",
       "1                                          Kemp             P          PPL NaN  \n",
       "3                      State of New South Wales             A         ADM1 NaN  \n",
       "3                     Commonwealth of Australia             A         PCLI NaN  \n",
       "3  Harry and Jeanette Weinberg Memorial Library             S         LIBR NaN  \n",
       "4           Virgin Islands of the United States             A         PCLD NaN  "
      ]
     },
     "execution_count": 9,
     "metadata": {},
     "output_type": "execute_result"
    }
   ],
   "source": [
    "## Format dataframe\n",
    "\n",
    "# create new formatted dataframe: df_clean\n",
    "def flat_df(df):\n",
    "    df_geo = df[df[\"geoparse\"].str.len() != 0] #subset where geoparse string is not empty\n",
    "    df_geo = df_geo.explode('geoparse') #Transforms each element of a list to a row and replicates index and all other columns. When more than one place name appears it creates more than one row.\n",
    "    df_geo = pd.concat([df_geo.drop(['geoparse'], axis=1), df_geo['geoparse'].apply(pd.Series)], axis=1) #Extract from dic\n",
    "    df_geo = pd.concat([df_geo.drop(['geo'], axis=1), df_geo['geo'].apply(pd.Series)], axis=1)\n",
    "    df_geo = df_geo[df_geo['lat'].notnull()] #Removing empty latitude rows\n",
    "    df_geo.lat = df_geo.lat.astype(float) #Transforms to float\n",
    "    df_geo.lon =df_geo.lon.astype(float) #Transforms to float\n",
    "    return df_geo\n",
    "    \n",
    "df_clean = flat_df(df)\n",
    "print(df_clean.dtypes)\n",
    "print(df_clean[0:5])\n",
    "df_clean.head(5)"
   ]
  },
  {
   "cell_type": "code",
   "execution_count": null,
   "id": "626895ed-6962-4f91-b190-036aa9b56afb",
   "metadata": {
    "tags": []
   },
   "outputs": [],
   "source": [
    "## Save as a .csv\n",
    "df_clean.to_csv('C:\\\\Users\\\\deviv\\\\Python-working-folder\\\\test-mordecai\\\\outputs\\\\geoparsed-records.csv', index=False)"
   ]
  },
  {
   "cell_type": "code",
   "execution_count": null,
   "id": "ff95fb07-8791-4216-9f41-478f64157e08",
   "metadata": {},
   "outputs": [],
   "source": [
    "## Save as an sqlite database\n",
    "database = 'C:\\\\Users\\\\deviv\\\\Python-working-folder\\\\test-mordecai\\\\outputs\\\\geoparsed-records.sqlite'\n",
    "conn = sqlite3.connect(database)\n",
    "df_clean.to_sql(\"geoparsed-records\", con=conn)"
   ]
  }
 ],
 "metadata": {
  "kernelspec": {
   "display_name": "mordecai_env_3.8",
   "language": "python",
   "name": "mordecai_env_3.8"
  },
  "language_info": {
   "codemirror_mode": {
    "name": "ipython",
    "version": 3
   },
   "file_extension": ".py",
   "mimetype": "text/x-python",
   "name": "python",
   "nbconvert_exporter": "python",
   "pygments_lexer": "ipython3",
   "version": "3.8.10"
  }
 },
 "nbformat": 4,
 "nbformat_minor": 5
}
