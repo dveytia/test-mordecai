{
 "cells": [
  {
   "cell_type": "markdown",
   "id": "4660450e-0bde-4aaf-8dbd-282317b64b4b",
   "metadata": {},
   "source": [
    "# 02 Gridding locations\n",
    "\n",
    "Analysis reads in locations identified for publications, de-duplicates locations by publication, identifies shapefiles from natural earth for locations, and then bin the shapefiles to the grid. If no shapefile is found, then the location is mapped to the grid cell which covers the centroid of the location. "
   ]
  },
  {
   "cell_type": "markdown",
   "id": "7eef5ccf-2012-491c-85a0-fda1f5ceb4c1",
   "metadata": {},
   "source": [
    "*Note to Vicky*\n",
    "What do you think about the resolution of the grid? Max uses 2.5 (which I think is ~275 km) but maybe it might be worthwhile going smaller (e.g. at least 0.5 degree) and we can always aggregate the grid if we need to? \n",
    "\n",
    "Also, it would be great to store the area of each polygon before binning and store it in a separate data frame so we can examine the spatial scale of different publications. What do you think?"
   ]
  }
 ],
 "metadata": {
  "kernelspec": {
   "display_name": "mordecai_env_3.8",
   "language": "python",
   "name": "mordecai_env_3.8"
  },
  "language_info": {
   "codemirror_mode": {
    "name": "ipython",
    "version": 3
   },
   "file_extension": ".py",
   "mimetype": "text/x-python",
   "name": "python",
   "nbconvert_exporter": "python",
   "pygments_lexer": "ipython3",
   "version": "3.8.10"
  }
 },
 "nbformat": 4,
 "nbformat_minor": 5
}
