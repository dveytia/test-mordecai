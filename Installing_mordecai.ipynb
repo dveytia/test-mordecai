{
 "cells": [
  {
   "cell_type": "code",
   "execution_count": 2,
   "metadata": {},
   "outputs": [],
   "source": [
    "#!python -m venv mordecai-env\n",
    "#!mordecai-env\\Scripts\\activate"
   ]
  },
  {
   "cell_type": "code",
   "execution_count": 11,
   "metadata": {},
   "outputs": [
    {
     "name": "stdout",
     "output_type": "stream",
     "text": [
      "Python 3.9.5\n"
     ]
    }
   ],
   "source": [
    "!python --version "
   ]
  },
  {
   "cell_type": "markdown",
   "metadata": {},
   "source": [
    "# Install packages"
   ]
  },
  {
   "cell_type": "markdown",
   "metadata": {},
   "source": [
    "First try to install mordecai the \"normal\" way using the version in PyPi."
   ]
  },
  {
   "cell_type": "code",
   "execution_count": 9,
   "metadata": {},
   "outputs": [
    {
     "name": "stdout",
     "output_type": "stream",
     "text": [
      "Requirement already satisfied: mordecai in /home/dveytia/.local/lib/python3.8/site-packages (2.1.0)\n",
      "Requirement already satisfied: elasticsearch-dsl==5.3.0 in /home/dveytia/.local/lib/python3.8/site-packages (from mordecai) (5.3.0)\n",
      "Requirement already satisfied: tensorflow>=2.2.0 in /home/dveytia/.local/lib/python3.8/site-packages (from mordecai) (2.11.0)\n",
      "Requirement already satisfied: h5py>=2.10.0 in /home/dveytia/.local/lib/python3.8/site-packages (from mordecai) (3.8.0)\n",
      "Requirement already satisfied: editdistance>=0.5.3 in /home/dveytia/.local/lib/python3.8/site-packages (from mordecai) (0.6.2)\n",
      "Requirement already satisfied: numpy>=1.12 in /home/dveytia/.local/lib/python3.8/site-packages (from mordecai) (1.21.0)\n",
      "Requirement already satisfied: tqdm>=4.28.1 in /home/dveytia/.local/lib/python3.8/site-packages (from mordecai) (4.65.0)\n",
      "Requirement already satisfied: spacy<3.0,>=2.3 in /home/dveytia/.local/lib/python3.8/site-packages (from mordecai) (2.3.0)\n",
      "Requirement already satisfied: elasticsearch==5.4.0 in /home/dveytia/.local/lib/python3.8/site-packages (from mordecai) (5.4.0)\n",
      "Requirement already satisfied: pandas>=0.24.2 in /home/dveytia/.local/lib/python3.8/site-packages (from mordecai) (1.5.3)\n",
      "Requirement already satisfied: six in /usr/lib/python3/dist-packages (from elasticsearch-dsl==5.3.0->mordecai) (1.14.0)\n",
      "Requirement already satisfied: python-dateutil in /usr/local/lib/python3.8/dist-packages (from elasticsearch-dsl==5.3.0->mordecai) (2.8.2)\n",
      "Requirement already satisfied: protobuf<3.20,>=3.9.2 in /home/dveytia/.local/lib/python3.8/site-packages (from tensorflow>=2.2.0->mordecai) (3.19.6)\n",
      "Requirement already satisfied: packaging in /usr/lib/python3/dist-packages (from tensorflow>=2.2.0->mordecai) (20.3)\n",
      "Requirement already satisfied: typing-extensions>=3.6.6 in /home/dveytia/.local/lib/python3.8/site-packages (from tensorflow>=2.2.0->mordecai) (4.5.0)\n",
      "Requirement already satisfied: grpcio<2.0,>=1.24.3 in /home/dveytia/.local/lib/python3.8/site-packages (from tensorflow>=2.2.0->mordecai) (1.51.3)\n",
      "Requirement already satisfied: absl-py>=1.0.0 in /home/dveytia/.local/lib/python3.8/site-packages (from tensorflow>=2.2.0->mordecai) (1.4.0)\n",
      "Requirement already satisfied: termcolor>=1.1.0 in /home/dveytia/.local/lib/python3.8/site-packages (from tensorflow>=2.2.0->mordecai) (2.2.0)\n",
      "Requirement already satisfied: setuptools in /usr/lib/python3/dist-packages (from tensorflow>=2.2.0->mordecai) (45.2.0)\n",
      "Requirement already satisfied: keras<2.12,>=2.11.0 in /home/dveytia/.local/lib/python3.8/site-packages (from tensorflow>=2.2.0->mordecai) (2.11.0)\n",
      "Requirement already satisfied: astunparse>=1.6.0 in /home/dveytia/.local/lib/python3.8/site-packages (from tensorflow>=2.2.0->mordecai) (1.6.3)\n",
      "Requirement already satisfied: tensorflow-estimator<2.12,>=2.11.0 in /home/dveytia/.local/lib/python3.8/site-packages (from tensorflow>=2.2.0->mordecai) (2.11.0)\n",
      "Requirement already satisfied: opt-einsum>=2.3.2 in /home/dveytia/.local/lib/python3.8/site-packages (from tensorflow>=2.2.0->mordecai) (3.3.0)\n",
      "Requirement already satisfied: flatbuffers>=2.0 in /home/dveytia/.local/lib/python3.8/site-packages (from tensorflow>=2.2.0->mordecai) (23.3.3)\n",
      "Requirement already satisfied: tensorflow-io-gcs-filesystem>=0.23.1; platform_machine != \"arm64\" or platform_system != \"Darwin\" in /home/dveytia/.local/lib/python3.8/site-packages (from tensorflow>=2.2.0->mordecai) (0.31.0)\n",
      "Requirement already satisfied: wrapt>=1.11.0 in /home/dveytia/.local/lib/python3.8/site-packages (from tensorflow>=2.2.0->mordecai) (1.15.0)\n",
      "Requirement already satisfied: libclang>=13.0.0 in /home/dveytia/.local/lib/python3.8/site-packages (from tensorflow>=2.2.0->mordecai) (15.0.6.1)\n",
      "Requirement already satisfied: tensorboard<2.12,>=2.11 in /home/dveytia/.local/lib/python3.8/site-packages (from tensorflow>=2.2.0->mordecai) (2.11.2)\n",
      "Requirement already satisfied: gast<=0.4.0,>=0.2.1 in /home/dveytia/.local/lib/python3.8/site-packages (from tensorflow>=2.2.0->mordecai) (0.4.0)\n",
      "Requirement already satisfied: google-pasta>=0.1.1 in /home/dveytia/.local/lib/python3.8/site-packages (from tensorflow>=2.2.0->mordecai) (0.2.0)\n",
      "Requirement already satisfied: plac<1.2.0,>=0.9.6 in /home/dveytia/.local/lib/python3.8/site-packages (from spacy<3.0,>=2.3->mordecai) (1.1.3)\n",
      "Requirement already satisfied: wasabi<1.1.0,>=0.4.0 in /home/dveytia/.local/lib/python3.8/site-packages (from spacy<3.0,>=2.3->mordecai) (0.10.1)\n",
      "Requirement already satisfied: requests<3.0.0,>=2.13.0 in /usr/lib/python3/dist-packages (from spacy<3.0,>=2.3->mordecai) (2.22.0)\n",
      "Requirement already satisfied: srsly<1.1.0,>=1.0.2 in /home/dveytia/.local/lib/python3.8/site-packages (from spacy<3.0,>=2.3->mordecai) (1.0.6)\n",
      "Requirement already satisfied: cymem<2.1.0,>=2.0.2 in /home/dveytia/.local/lib/python3.8/site-packages (from spacy<3.0,>=2.3->mordecai) (2.0.7)\n",
      "Requirement already satisfied: thinc==7.4.1 in /home/dveytia/.local/lib/python3.8/site-packages (from spacy<3.0,>=2.3->mordecai) (7.4.1)\n",
      "Requirement already satisfied: blis<0.5.0,>=0.4.0 in /home/dveytia/.local/lib/python3.8/site-packages (from spacy<3.0,>=2.3->mordecai) (0.4.1)\n",
      "Requirement already satisfied: murmurhash<1.1.0,>=0.28.0 in /home/dveytia/.local/lib/python3.8/site-packages (from spacy<3.0,>=2.3->mordecai) (1.0.9)\n",
      "Requirement already satisfied: catalogue<1.1.0,>=0.0.7 in /home/dveytia/.local/lib/python3.8/site-packages (from spacy<3.0,>=2.3->mordecai) (1.0.2)\n",
      "Requirement already satisfied: preshed<3.1.0,>=3.0.2 in /home/dveytia/.local/lib/python3.8/site-packages (from spacy<3.0,>=2.3->mordecai) (3.0.8)\n",
      "Requirement already satisfied: urllib3<2.0,>=1.8 in /usr/lib/python3/dist-packages (from elasticsearch==5.4.0->mordecai) (1.25.8)\n",
      "Requirement already satisfied: pytz>=2020.1 in /home/dveytia/.local/lib/python3.8/site-packages (from pandas>=0.24.2->mordecai) (2022.7.1)\n",
      "Requirement already satisfied: wheel<1.0,>=0.23.0 in /usr/lib/python3/dist-packages (from astunparse>=1.6.0->tensorflow>=2.2.0->mordecai) (0.34.2)\n",
      "Requirement already satisfied: google-auth-oauthlib<0.5,>=0.4.1 in /home/dveytia/.local/lib/python3.8/site-packages (from tensorboard<2.12,>=2.11->tensorflow>=2.2.0->mordecai) (0.4.6)\n",
      "Requirement already satisfied: google-auth<3,>=1.6.3 in /home/dveytia/.local/lib/python3.8/site-packages (from tensorboard<2.12,>=2.11->tensorflow>=2.2.0->mordecai) (2.16.2)\n",
      "Requirement already satisfied: werkzeug>=1.0.1 in /home/dveytia/.local/lib/python3.8/site-packages (from tensorboard<2.12,>=2.11->tensorflow>=2.2.0->mordecai) (2.2.3)\n",
      "Requirement already satisfied: tensorboard-plugin-wit>=1.6.0 in /home/dveytia/.local/lib/python3.8/site-packages (from tensorboard<2.12,>=2.11->tensorflow>=2.2.0->mordecai) (1.8.1)\n",
      "Requirement already satisfied: tensorboard-data-server<0.7.0,>=0.6.0 in /home/dveytia/.local/lib/python3.8/site-packages (from tensorboard<2.12,>=2.11->tensorflow>=2.2.0->mordecai) (0.6.1)\n",
      "Requirement already satisfied: markdown>=2.6.8 in /home/dveytia/.local/lib/python3.8/site-packages (from tensorboard<2.12,>=2.11->tensorflow>=2.2.0->mordecai) (3.4.1)\n",
      "Requirement already satisfied: requests-oauthlib>=0.7.0 in /home/dveytia/.local/lib/python3.8/site-packages (from google-auth-oauthlib<0.5,>=0.4.1->tensorboard<2.12,>=2.11->tensorflow>=2.2.0->mordecai) (1.3.1)\n",
      "Requirement already satisfied: rsa<5,>=3.1.4; python_version >= \"3.6\" in /home/dveytia/.local/lib/python3.8/site-packages (from google-auth<3,>=1.6.3->tensorboard<2.12,>=2.11->tensorflow>=2.2.0->mordecai) (4.9)\n",
      "Requirement already satisfied: cachetools<6.0,>=2.0.0 in /home/dveytia/.local/lib/python3.8/site-packages (from google-auth<3,>=1.6.3->tensorboard<2.12,>=2.11->tensorflow>=2.2.0->mordecai) (5.3.0)\n",
      "Requirement already satisfied: pyasn1-modules>=0.2.1 in /usr/lib/python3/dist-packages (from google-auth<3,>=1.6.3->tensorboard<2.12,>=2.11->tensorflow>=2.2.0->mordecai) (0.2.1)\n",
      "Requirement already satisfied: MarkupSafe>=2.1.1 in /usr/local/lib/python3.8/dist-packages (from werkzeug>=1.0.1->tensorboard<2.12,>=2.11->tensorflow>=2.2.0->mordecai) (2.1.2)\n",
      "Requirement already satisfied: importlib-metadata>=4.4; python_version < \"3.10\" in /usr/local/lib/python3.8/dist-packages (from markdown>=2.6.8->tensorboard<2.12,>=2.11->tensorflow>=2.2.0->mordecai) (6.0.0)\n",
      "Requirement already satisfied: oauthlib>=3.0.0 in /usr/lib/python3/dist-packages (from requests-oauthlib>=0.7.0->google-auth-oauthlib<0.5,>=0.4.1->tensorboard<2.12,>=2.11->tensorflow>=2.2.0->mordecai) (3.1.0)\n",
      "Requirement already satisfied: pyasn1>=0.1.3 in /usr/lib/python3/dist-packages (from rsa<5,>=3.1.4; python_version >= \"3.6\"->google-auth<3,>=1.6.3->tensorboard<2.12,>=2.11->tensorflow>=2.2.0->mordecai) (0.4.2)\n",
      "Requirement already satisfied: zipp>=0.5 in /usr/lib/python3/dist-packages (from importlib-metadata>=4.4; python_version < \"3.10\"->markdown>=2.6.8->tensorboard<2.12,>=2.11->tensorflow>=2.2.0->mordecai) (1.0.0)\n",
      "Requirement already satisfied: spacy==2.3 in /home/dveytia/.local/lib/python3.8/site-packages (2.3.0)\n",
      "Requirement already satisfied: catalogue<1.1.0,>=0.0.7 in /home/dveytia/.local/lib/python3.8/site-packages (from spacy==2.3) (1.0.2)\n",
      "Requirement already satisfied: thinc==7.4.1 in /home/dveytia/.local/lib/python3.8/site-packages (from spacy==2.3) (7.4.1)\n",
      "Requirement already satisfied: cymem<2.1.0,>=2.0.2 in /home/dveytia/.local/lib/python3.8/site-packages (from spacy==2.3) (2.0.7)\n",
      "Requirement already satisfied: srsly<1.1.0,>=1.0.2 in /home/dveytia/.local/lib/python3.8/site-packages (from spacy==2.3) (1.0.6)\n",
      "Requirement already satisfied: murmurhash<1.1.0,>=0.28.0 in /home/dveytia/.local/lib/python3.8/site-packages (from spacy==2.3) (1.0.9)\n",
      "Requirement already satisfied: requests<3.0.0,>=2.13.0 in /usr/lib/python3/dist-packages (from spacy==2.3) (2.22.0)\n",
      "Requirement already satisfied: plac<1.2.0,>=0.9.6 in /home/dveytia/.local/lib/python3.8/site-packages (from spacy==2.3) (1.1.3)\n",
      "Requirement already satisfied: wasabi<1.1.0,>=0.4.0 in /home/dveytia/.local/lib/python3.8/site-packages (from spacy==2.3) (0.10.1)\n",
      "Requirement already satisfied: preshed<3.1.0,>=3.0.2 in /home/dveytia/.local/lib/python3.8/site-packages (from spacy==2.3) (3.0.8)\n",
      "Requirement already satisfied: numpy>=1.15.0 in /home/dveytia/.local/lib/python3.8/site-packages (from spacy==2.3) (1.21.0)\n",
      "Requirement already satisfied: setuptools in /usr/lib/python3/dist-packages (from spacy==2.3) (45.2.0)\n",
      "Requirement already satisfied: blis<0.5.0,>=0.4.0 in /home/dveytia/.local/lib/python3.8/site-packages (from spacy==2.3) (0.4.1)\n",
      "Requirement already satisfied: tqdm<5.0.0,>=4.38.0 in /home/dveytia/.local/lib/python3.8/site-packages (from spacy==2.3) (4.65.0)\n",
      "Requirement already satisfied: numpy==1.21 in /home/dveytia/.local/lib/python3.8/site-packages (1.21.0)\n",
      "Requirement already satisfied: h5py==3.8.0 in /home/dveytia/.local/lib/python3.8/site-packages (3.8.0)\n",
      "Requirement already satisfied: numpy>=1.14.5 in /home/dveytia/.local/lib/python3.8/site-packages (from h5py==3.8.0) (1.21.0)\n"
     ]
    }
   ],
   "source": [
    "!pip install mordecai # !pip install mordecai-2.1.0.tar.gz\n",
    "!pip install spacy==2.3\n",
    "!pip install numpy==1.21\n",
    "!pip install h5py==3.8.0"
   ]
  },
  {
   "cell_type": "code",
   "execution_count": 8,
   "metadata": {},
   "outputs": [
    {
     "name": "stdout",
     "output_type": "stream",
     "text": [
      "Package                      Version             \n",
      "---------------------------- --------------------\n",
      "absl-py                      1.4.0               \n",
      "alabaster                    0.7.8               \n",
      "anyio                        3.6.2               \n",
      "argon2-cffi                  21.3.0              \n",
      "argon2-cffi-bindings         21.2.0              \n",
      "asttokens                    2.2.1               \n",
      "astunparse                   1.6.3               \n",
      "attrs                        19.3.0              \n",
      "Automat                      0.8.0               \n",
      "Babel                        2.6.0               \n",
      "backcall                     0.2.0               \n",
      "beautifulsoup4               4.11.2              \n",
      "bleach                       6.0.0               \n",
      "blinker                      1.4                 \n",
      "blis                         0.4.1               \n",
      "cachetools                   5.3.0               \n",
      "catalogue                    1.0.2               \n",
      "certifi                      2019.11.28          \n",
      "cffi                         1.15.1              \n",
      "chardet                      3.0.4               \n",
      "Click                        7.0                 \n",
      "cloud-init                   22.4.2              \n",
      "colorama                     0.4.3               \n",
      "comm                         0.1.2               \n",
      "command-not-found            0.3                 \n",
      "configobj                    5.0.6               \n",
      "constantly                   15.1.0              \n",
      "cryptography                 2.8                 \n",
      "cymem                        2.0.7               \n",
      "dbus-python                  1.2.16              \n",
      "debugpy                      1.6.6               \n",
      "decorator                    5.1.1               \n",
      "defusedxml                   0.7.1               \n",
      "distro                       1.4.0               \n",
      "distro-info                  0.23ubuntu1         \n",
      "docutils                     0.16                \n",
      "editdistance                 0.6.2               \n",
      "elasticsearch                5.4.0               \n",
      "elasticsearch-dsl            5.3.0               \n",
      "en-core-web-lg               2.3.0               \n",
      "entrypoints                  0.3                 \n",
      "executing                    1.2.0               \n",
      "fail2ban                     0.11.1              \n",
      "fastjsonschema               2.16.3              \n",
      "flatbuffers                  23.3.3              \n",
      "gast                         0.4.0               \n",
      "google-auth                  2.16.2              \n",
      "google-auth-oauthlib         0.4.6               \n",
      "google-pasta                 0.2.0               \n",
      "grpcio                       1.51.3              \n",
      "h5py                         3.8.0               \n",
      "httplib2                     0.14.0              \n",
      "hyperlink                    19.0.0              \n",
      "idna                         2.8                 \n",
      "imagesize                    1.2.0               \n",
      "importlib-metadata           6.0.0               \n",
      "incremental                  16.10.1             \n",
      "ipykernel                    6.21.3              \n",
      "ipython                      8.11.0              \n",
      "ipython-genutils             0.2.0               \n",
      "ipywidgets                   8.0.4               \n",
      "jedi                         0.18.2              \n",
      "Jinja2                       3.1.2               \n",
      "jsonpatch                    1.22                \n",
      "jsonpointer                  2.0                 \n",
      "jsonschema                   3.2.0               \n",
      "jupyter                      1.0.0               \n",
      "jupyter-client               8.0.3               \n",
      "jupyter-console              6.6.3               \n",
      "jupyter-core                 5.2.0               \n",
      "jupyter-events               0.6.3               \n",
      "jupyter-server               2.4.0               \n",
      "jupyter-server-terminals     0.4.4               \n",
      "jupyterlab-pygments          0.2.2               \n",
      "jupyterlab-widgets           3.0.5               \n",
      "keras                        2.11.0              \n",
      "keyring                      18.0.1              \n",
      "language-selector            0.1                 \n",
      "launchpadlib                 1.10.13             \n",
      "lazr.restfulclient           0.14.2              \n",
      "lazr.uri                     1.0.3               \n",
      "libclang                     15.0.6.1            \n",
      "Markdown                     3.4.1               \n",
      "MarkupSafe                   2.1.2               \n",
      "matplotlib-inline            0.1.6               \n",
      "mistune                      2.0.5               \n",
      "mordecai                     2.1.0               \n",
      "more-itertools               4.2.0               \n",
      "murmurhash                   1.0.9               \n",
      "nbclassic                    0.5.3               \n",
      "nbclient                     0.7.2               \n",
      "nbconvert                    7.2.9               \n",
      "nbformat                     5.7.3               \n",
      "nest-asyncio                 1.5.6               \n",
      "netifaces                    0.10.4              \n",
      "notebook                     6.5.3               \n",
      "notebook-shim                0.2.2               \n",
      "numpy                        1.21.0              \n",
      "oauthlib                     3.1.0               \n",
      "olefile                      0.46                \n",
      "opt-einsum                   3.3.0               \n",
      "packaging                    20.3                \n",
      "pandas                       1.5.3               \n",
      "pandocfilters                1.5.0               \n",
      "parso                        0.8.3               \n",
      "pexpect                      4.6.0               \n",
      "pickleshare                  0.7.5               \n",
      "Pillow                       7.0.0               \n",
      "pip                          20.0.2              \n",
      "plac                         1.1.3               \n",
      "platformdirs                 3.1.1               \n",
      "preshed                      3.0.8               \n",
      "prometheus-client            0.16.0              \n",
      "prompt-toolkit               3.0.38              \n",
      "protobuf                     3.19.6              \n",
      "psutil                       5.9.4               \n",
      "ptyprocess                   0.7.0               \n",
      "pure-eval                    0.2.2               \n",
      "pyasn1                       0.4.2               \n",
      "pyasn1-modules               0.2.1               \n",
      "pycparser                    2.21                \n",
      "Pygments                     2.14.0              \n",
      "PyGObject                    3.36.0              \n",
      "PyHamcrest                   1.9.0               \n",
      "pyinotify                    0.9.6               \n",
      "PyJWT                        1.7.1               \n",
      "pymacaroons                  0.13.0              \n",
      "PyNaCl                       1.3.0               \n",
      "pyOpenSSL                    19.0.0              \n",
      "pyparsing                    2.4.6               \n",
      "pyrsistent                   0.15.5              \n",
      "pyserial                     3.4                 \n",
      "python-apt                   2.0.1+ubuntu0.20.4.1\n",
      "python-dateutil              2.8.2               \n",
      "python-debian                0.1.36ubuntu1       \n",
      "python-json-logger           2.0.7               \n",
      "pytz                         2022.7.1            \n",
      "PyYAML                       5.3.1               \n",
      "pyzmq                        25.0.1              \n",
      "qtconsole                    5.4.1               \n",
      "QtPy                         2.3.0               \n",
      "requests                     2.22.0              \n",
      "requests-oauthlib            1.3.1               \n",
      "requests-unixsocket          0.2.0               \n",
      "rfc3339-validator            0.1.4               \n",
      "rfc3986-validator            0.1.1               \n",
      "roman                        2.0.0               \n",
      "rsa                          4.9                 \n",
      "SecretStorage                2.3.1               \n",
      "Send2Trash                   1.8.0               \n",
      "service-identity             18.1.0              \n",
      "setuptools                   45.2.0              \n",
      "simplejson                   3.16.0              \n",
      "six                          1.14.0              \n",
      "sniffio                      1.3.0               \n",
      "sos                          4.4                 \n",
      "soupsieve                    2.4                 \n",
      "spacy                        2.3.0               \n",
      "Sphinx                       1.8.5               \n",
      "srsly                        1.0.6               \n",
      "ssh-import-id                5.10                \n",
      "stack-data                   0.6.2               \n",
      "systemd-python               234                 \n",
      "tensorboard                  2.11.2              \n",
      "tensorboard-data-server      0.6.1               \n",
      "tensorboard-plugin-wit       1.8.1               \n",
      "tensorflow                   2.11.0              \n",
      "tensorflow-estimator         2.11.0              \n",
      "tensorflow-io-gcs-filesystem 0.31.0              \n",
      "termcolor                    2.2.0               \n",
      "terminado                    0.17.1              \n",
      "thinc                        7.4.1               \n",
      "tinycss2                     1.2.1               \n",
      "tornado                      6.2                 \n",
      "tqdm                         4.65.0              \n",
      "traitlets                    5.9.0               \n",
      "Twisted                      18.9.0              \n",
      "typing-extensions            4.5.0               \n",
      "ubuntu-advantage-tools       8001                \n",
      "ubuntu-drivers-common        0.0.0               \n",
      "ufw                          0.36                \n",
      "unattended-upgrades          0.1                 \n",
      "urllib3                      1.25.8              \n",
      "wadllib                      1.3.3               \n",
      "wasabi                       0.10.1              \n",
      "wcwidth                      0.2.6               \n",
      "webencodings                 0.5.1               \n",
      "websocket-client             1.5.1               \n",
      "Werkzeug                     2.2.3               \n",
      "wheel                        0.34.2              \n",
      "widgetsnbextension           4.0.5               \n",
      "wrapt                        1.15.0              \n",
      "xkit                         0.0.0               \n",
      "zipp                         1.0.0               \n",
      "zope.interface               4.7.1               \n"
     ]
    }
   ],
   "source": [
    "!pip list"
   ]
  },
  {
   "cell_type": "markdown",
   "metadata": {},
   "source": [
    "# Download the en_core_web_lg model\n",
    "\n",
    "Several ways to run this depending on the system:"
   ]
  },
  {
   "cell_type": "code",
   "execution_count": 2,
   "metadata": {},
   "outputs": [
    {
     "name": "stdout",
     "output_type": "stream",
     "text": [
      "/opt/miniconda3/bin/python: No module named spacy\n"
     ]
    }
   ],
   "source": [
    "!python -m spacy download en_core_web_lg"
   ]
  },
  {
   "cell_type": "markdown",
   "metadata": {},
   "source": [
    "OR run chunk below:"
   ]
  },
  {
   "cell_type": "code",
   "execution_count": null,
   "metadata": {},
   "outputs": [],
   "source": [
    "!python3 -m spacy download en_core_web_lg"
   ]
  },
  {
   "cell_type": "markdown",
   "metadata": {},
   "source": [
    "# Set up Docker and the Geonames index"
   ]
  },
  {
   "cell_type": "code",
   "execution_count": 4,
   "metadata": {},
   "outputs": [
    {
     "name": "stdout",
     "output_type": "stream",
     "text": [
      "5.5.2: Pulling from library/elasticsearch\n",
      "\n",
      "\u001b[1B2e45b4af: Pulling fs layer \n",
      "\u001b[1Bfbcfe407: Pulling fs layer \n",
      "\u001b[1Bdaaff53b: Pulling fs layer \n",
      "\u001b[1Bfe538f2f: Pulling fs layer \n",
      "\u001b[1B32737cd4: Pulling fs layer \n",
      "\u001b[1B8dddf546: Pulling fs layer \n",
      "\u001b[1Bf82bd83f: Pulling fs layer \n",
      "\u001b[3B8dddf546: Waiting fs layer \n",
      "\u001b[1B224fb73f: Pulling fs layer \n",
      "\u001b[1Bc95dec23: Pulling fs layer \n",
      "\u001b[8Bfe538f2f: Waiting fs layer \n",
      "\u001b[2Be4a86d71: Waiting fs layer \n",
      "\u001b[1Bd4b54ad0: Pulling fs layer \n",
      "\u001b[2Bd4b54ad0: Waiting fs layer \n",
      "\u001b[1BDigest: sha256:3686a5757ed46c9dbcf00f6f71fce48ffc5413b193a80d1c46a21e7aad4c53ad\u001b[2K\u001b[14A\u001b[2K\u001b[15A\u001b[2K\u001b[13A\u001b[2K\u001b[15A\u001b[2K\u001b[13A\u001b[2K\u001b[15A\u001b[2K\u001b[13A\u001b[2K\u001b[13A\u001b[2K\u001b[15A\u001b[2K\u001b[14A\u001b[2K\u001b[15A\u001b[2K\u001b[14A\u001b[2K\u001b[15A\u001b[2K\u001b[14A\u001b[2K\u001b[15A\u001b[2K\u001b[14A\u001b[2K\u001b[15A\u001b[2K\u001b[12A\u001b[2K\u001b[14A\u001b[2K\u001b[12A\u001b[2K\u001b[14A\u001b[2K\u001b[12A\u001b[2K\u001b[15A\u001b[2K\u001b[14A\u001b[2K\u001b[15A\u001b[2K\u001b[15A\u001b[2K\u001b[15A\u001b[2K\u001b[15A\u001b[2K\u001b[14A\u001b[2K\u001b[15A\u001b[2K\u001b[14A\u001b[2K\u001b[15A\u001b[2K\u001b[14A\u001b[2K\u001b[15A\u001b[2K\u001b[14A\u001b[2K\u001b[15A\u001b[2K\u001b[14A\u001b[2K\u001b[15A\u001b[2K\u001b[10A\u001b[2K\u001b[15A\u001b[2K\u001b[14A\u001b[2K\u001b[15A\u001b[2K\u001b[15A\u001b[2K\u001b[15A\u001b[2K\u001b[15A\u001b[2K\u001b[15A\u001b[2K\u001b[8A\u001b[2K\u001b[15A\u001b[2K\u001b[8A\u001b[2K\u001b[15A\u001b[2K\u001b[9A\u001b[2K\u001b[8A\u001b[2KDownloading    272kB/272kB\u001b[15A\u001b[2K\u001b[9A\u001b[2K\u001b[15A\u001b[2K\u001b[15A\u001b[2K\u001b[9A\u001b[2K\u001b[15A\u001b[2K\u001b[15A\u001b[2K\u001b[7A\u001b[2K\u001b[7A\u001b[2K\u001b[9A\u001b[2K\u001b[7A\u001b[2K\u001b[9A\u001b[2K\u001b[7A\u001b[2K\u001b[9A\u001b[2K\u001b[15A\u001b[2K\u001b[9A\u001b[2K\u001b[15A\u001b[2K\u001b[15A\u001b[2K\u001b[15A\u001b[2K\u001b[9A\u001b[2K\u001b[15A\u001b[2K\u001b[15A\u001b[2K\u001b[9A\u001b[2K\u001b[15A\u001b[2K\u001b[9A\u001b[2K\u001b[9A\u001b[2K\u001b[15A\u001b[2K\u001b[9A\u001b[2K\u001b[15A\u001b[2K\u001b[9A\u001b[2K\u001b[15A\u001b[2K\u001b[9A\u001b[2K\u001b[15A\u001b[2K\u001b[5A\u001b[2K\u001b[15A\u001b[2K\u001b[9A\u001b[2K\u001b[15A\u001b[2K\u001b[4A\u001b[2K\u001b[15A\u001b[2K\u001b[9A\u001b[2K\u001b[4A\u001b[2K\u001b[15A\u001b[2K\u001b[9A\u001b[2K\u001b[14A\u001b[2K\u001b[4A\u001b[2K\u001b[14A\u001b[2K\u001b[9A\u001b[2K\u001b[14A\u001b[2K\u001b[9A\u001b[2K\u001b[14A\u001b[2K\u001b[14A\u001b[2K\u001b[4A\u001b[2K\u001b[13A\u001b[2K\u001b[13A\u001b[2K\u001b[13A\u001b[2K\u001b[12A\u001b[2K\u001b[12A\u001b[2K\u001b[11A\u001b[2K\u001b[9A\u001b[2K\u001b[4A\u001b[2K\u001b[9A\u001b[2K\u001b[9A\u001b[2K\u001b[4A\u001b[2K\u001b[2A\u001b[2K\u001b[4A\u001b[2K\u001b[9A\u001b[2K\u001b[9A\u001b[2K\u001b[4A\u001b[2K\u001b[9A\u001b[2K\u001b[4A\u001b[2K\u001b[9A\u001b[2K\u001b[4A\u001b[2K\u001b[9A\u001b[2K\u001b[4A\u001b[2K\u001b[4A\u001b[2K\u001b[9A\u001b[2K\u001b[4A\u001b[2K\u001b[9A\u001b[2K\u001b[4A\u001b[2K\u001b[4A\u001b[2K\u001b[9A\u001b[2K\u001b[4A\u001b[2K\u001b[4A\u001b[2K\u001b[4A\u001b[2K\u001b[9A\u001b[2K\u001b[4A\u001b[2K\u001b[9A\u001b[2K\u001b[4A\u001b[2K\u001b[4A\u001b[2K\u001b[9A\u001b[2K\u001b[4A\u001b[2K\u001b[9A\u001b[2K\u001b[4A\u001b[2K\u001b[9A\u001b[2K\u001b[4A\u001b[2K\u001b[9A\u001b[2K\u001b[4A\u001b[2K\u001b[9A\u001b[2K\u001b[9A\u001b[2K\u001b[4A\u001b[2K\u001b[9A\u001b[2K\u001b[4A\u001b[2K\u001b[9A\u001b[2K\u001b[4A\u001b[2K\u001b[4A\u001b[2K\u001b[4A\u001b[2K\u001b[9A\u001b[2K\u001b[4A\u001b[2K\u001b[9A\u001b[2K\u001b[4A\u001b[2K\u001b[4A\u001b[2K\u001b[4A\u001b[2K\u001b[9A\u001b[2K\u001b[9A\u001b[2K\u001b[9A\u001b[2K\u001b[9A\u001b[2K\u001b[9A\u001b[2K\u001b[9A\u001b[2K\u001b[9A\u001b[2K\u001b[9A\u001b[2K\u001b[9A\u001b[2K\u001b[9A\u001b[2K\u001b[9A\u001b[2K\u001b[9A\u001b[2K\u001b[9A\u001b[2K\u001b[9A\u001b[2K\u001b[9A\u001b[2K\u001b[9A\u001b[2K\u001b[9A\u001b[2K\u001b[9A\u001b[2K\u001b[9A\u001b[2K\u001b[9A\u001b[2K\u001b[9A\u001b[2K\u001b[9A\u001b[2K\u001b[9A\u001b[2K\u001b[9A\u001b[2K\u001b[9A\u001b[2K\u001b[9A\u001b[2K\u001b[9A\u001b[2K\u001b[9A\u001b[2K\u001b[9A\u001b[2K\u001b[9A\u001b[2K\u001b[9A\u001b[2K\u001b[9A\u001b[2K\u001b[9A\u001b[2K\u001b[9A\u001b[2K\u001b[9A\u001b[2K\u001b[9A\u001b[2K\u001b[9A\u001b[2K\u001b[9A\u001b[2K\u001b[9A\u001b[2K\u001b[9A\u001b[2K\u001b[9A\u001b[2K\u001b[9A\u001b[2K\u001b[9A\u001b[2K\u001b[9A\u001b[2K\u001b[9A\u001b[2K\u001b[9A\u001b[2K\u001b[9A\u001b[2K\u001b[9A\u001b[2K\u001b[9A\u001b[2K\u001b[9A\u001b[2K\u001b[9A\u001b[2K\u001b[9A\u001b[2K\u001b[9A\u001b[2K\u001b[9A\u001b[2K\u001b[9A\u001b[2K\u001b[9A\u001b[2K\u001b[9A\u001b[2K\u001b[9A\u001b[2K\u001b[9A\u001b[2K\u001b[9A\u001b[2K\u001b[9A\u001b[2K\u001b[9A\u001b[2K\u001b[9A\u001b[2K\u001b[9A\u001b[2K\u001b[9A\u001b[2K\u001b[9A\u001b[2K\u001b[9A\u001b[2K\u001b[9A\u001b[2K\u001b[9A\u001b[2K\u001b[9A\u001b[2K\u001b[9A\u001b[2K\u001b[9A\u001b[2K\u001b[9A\u001b[2K\u001b[9A\u001b[2K\u001b[9A\u001b[2K\u001b[9A\u001b[2K\u001b[9A\u001b[2K\u001b[9A\u001b[2K\u001b[9A\u001b[2K\u001b[9A\u001b[2K\u001b[9A\u001b[2K\u001b[9A\u001b[2K\u001b[9A\u001b[2K\u001b[9A\u001b[2K\u001b[9A\u001b[2K\u001b[9A\u001b[2K\u001b[9A\u001b[2K\u001b[9A\u001b[2K\u001b[9A\u001b[2K\u001b[9A\u001b[2K\u001b[9A\u001b[2K\u001b[9A\u001b[2K\u001b[9A\u001b[2K\u001b[9A\u001b[2K\u001b[9A\u001b[2K\u001b[9A\u001b[2K\u001b[9A\u001b[2K\u001b[9A\u001b[2K\u001b[9A\u001b[2K\u001b[9A\u001b[2K\u001b[9A\u001b[2K\u001b[9A\u001b[2K\u001b[9A\u001b[2K\u001b[9A\u001b[2K\u001b[9A\u001b[2K\u001b[9A\u001b[2K\u001b[9A\u001b[2K\u001b[9A\u001b[2K\u001b[9A\u001b[2K\u001b[9A\u001b[2K\u001b[9A\u001b[2K\u001b[9A\u001b[2K\u001b[9A\u001b[2K\u001b[9A\u001b[2K\u001b[9A\u001b[2K\u001b[9A\u001b[2K\u001b[9A\u001b[2K\u001b[9A\u001b[2K\u001b[8A\u001b[2K\u001b[7A\u001b[2K\u001b[7A\u001b[2K\u001b[6A\u001b[2K\u001b[5A\u001b[2K\u001b[4A\u001b[2K\u001b[4A\u001b[2K\u001b[4A\u001b[2K\u001b[4A\u001b[2K\u001b[4A\u001b[2K\u001b[3A\u001b[2K\u001b[2A\u001b[2K\u001b[1A\u001b[2K\n",
      "Status: Downloaded newer image for elasticsearch:5.5.2\n",
      "docker.io/library/elasticsearch:5.5.2\n"
     ]
    }
   ],
   "source": [
    "!docker pull elasticsearch:5.5.2"
   ]
  },
  {
   "cell_type": "code",
   "execution_count": 5,
   "metadata": {},
   "outputs": [],
   "source": [
    "!wget https://andrewhalterman.com/files/geonames_index.tar.gz --output-file=wget_log.txt\n",
    "!tar -xzf geonames_index.tar.gz"
   ]
  },
  {
   "cell_type": "markdown",
   "metadata": {},
   "source": [
    "Note that I have to disable my antivirus software otherwise geonames_index is read only. Do this by: Windows Security > Virus & Threat protection settings > toggle off Real-time protection."
   ]
  },
  {
   "cell_type": "code",
   "execution_count": 5,
   "metadata": {},
   "outputs": [
    {
     "name": "stderr",
     "output_type": "stream",
     "text": [
      "docker: Error response from daemon: mkdir C:\\Users\\dveytia: Access is denied.\n",
      "See 'docker run --help'.\n"
     ]
    }
   ],
   "source": [
    "!docker run -d -p 127.0.0.1:9200:9200 -v C:/Users/dveytia/Python-working-folder/test-mordecai/geonames_index/:/usr/share/elasticsearch/data elasticsearch:5.5.2\n",
    "#!docker run -d -p 127.0.0.1:9200:9200 elasticsearch:5.5.2"
   ]
  },
  {
   "cell_type": "markdown",
   "metadata": {},
   "source": [
    "OR run:"
   ]
  },
  {
   "cell_type": "code",
   "execution_count": 6,
   "metadata": {},
   "outputs": [
    {
     "name": "stdout",
     "output_type": "stream",
     "text": [
      "63d418ed35a613f5b05993d974f9ec0dfafe09effb46405ff77ba294dfc03ffe\n"
     ]
    }
   ],
   "source": [
    "!docker run -d -p 127.0.0.1:9200:9200 -v $(pwd)/geonames_index/:/usr/share/elasticsearch/data elasticsearch:5.5.2"
   ]
  },
  {
   "cell_type": "code",
   "execution_count": 10,
   "metadata": {},
   "outputs": [
    {
     "ename": "ModuleNotFoundError",
     "evalue": "No module named 'mordecai'",
     "output_type": "error",
     "traceback": [
      "\u001b[0;31m---------------------------------------------------------------------------\u001b[0m",
      "\u001b[0;31mModuleNotFoundError\u001b[0m                       Traceback (most recent call last)",
      "Cell \u001b[0;32mIn[10], line 1\u001b[0m\n\u001b[0;32m----> 1\u001b[0m \u001b[38;5;28;01mfrom\u001b[39;00m \u001b[38;5;21;01mmordecai\u001b[39;00m \u001b[38;5;28;01mimport\u001b[39;00m Geoparser\n",
      "\u001b[0;31mModuleNotFoundError\u001b[0m: No module named 'mordecai'"
     ]
    }
   ],
   "source": [
    "from mordecai import Geoparser"
   ]
  },
  {
   "cell_type": "code",
   "execution_count": 2,
   "metadata": {},
   "outputs": [
    {
     "name": "stdout",
     "output_type": "stream",
     "text": [
      "Models path: C:\\Users\\deviv\\anaconda3\\envs\\mordecai_env_3.8\\lib\\site-packages\\mordecai\\models\\\n"
     ]
    }
   ],
   "source": [
    "geo = Geoparser()"
   ]
  },
  {
   "cell_type": "code",
   "execution_count": 3,
   "metadata": {},
   "outputs": [
    {
     "name": "stdout",
     "output_type": "stream",
     "text": [
      "1/1 [==============================] - 0s 99ms/step\n",
      "1/1 [==============================] - 0s 15ms/step\n",
      "1/1 [==============================] - 0s 15ms/step\n",
      "1/1 [==============================] - 0s 41ms/step\n",
      "1/1 [==============================] - 0s 15ms/step\n"
     ]
    },
    {
     "data": {
      "text/plain": [
       "[{'word': 'Oxford',\n",
       "  'spans': [{'start': 16, 'end': 22}],\n",
       "  'country_predicted': 'GBR',\n",
       "  'country_conf': 0.95718795,\n",
       "  'geo': {'admin1': 'England',\n",
       "   'lat': '51.75222',\n",
       "   'lon': '-1.25596',\n",
       "   'country_code3': 'GBR',\n",
       "   'geonameid': '2640729',\n",
       "   'place_name': 'Oxford',\n",
       "   'feature_class': 'P',\n",
       "   'feature_code': 'PPLA2'}},\n",
       " {'word': 'Ottawa',\n",
       "  'spans': [{'start': 26, 'end': 32}],\n",
       "  'country_predicted': 'CAN',\n",
       "  'country_conf': 0.87992215,\n",
       "  'geo': {'admin1': 'Ontario',\n",
       "   'lat': '45.41117',\n",
       "   'lon': '-75.69812',\n",
       "   'country_code3': 'CAN',\n",
       "   'geonameid': '6094817',\n",
       "   'place_name': 'Ottawa',\n",
       "   'feature_class': 'P',\n",
       "   'feature_code': 'PPLC'}}]"
      ]
     },
     "execution_count": 3,
     "metadata": {},
     "output_type": "execute_result"
    }
   ],
   "source": [
    "geo.geoparse(\"I traveled from Oxford to Ottawa.\")"
   ]
  }
 ],
 "metadata": {
  "kernelspec": {
   "display_name": "mordecai_env",
   "language": "python",
   "name": "mordecai_env"
  },
  "language_info": {
   "codemirror_mode": {
    "name": "ipython",
    "version": 3
   },
   "file_extension": ".py",
   "mimetype": "text/x-python",
   "name": "python",
   "nbconvert_exporter": "python",
   "pygments_lexer": "ipython3",
   "version": "3.9.5"
  }
 },
 "nbformat": 4,
 "nbformat_minor": 4
}
