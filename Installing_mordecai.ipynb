{
 "cells": [
  {
   "cell_type": "code",
   "execution_count": 2,
   "metadata": {},
   "outputs": [],
   "source": [
    "#!python -m venv mordecai-env\n",
    "#!mordecai-env\\Scripts\\activate"
   ]
  },
  {
   "cell_type": "code",
   "execution_count": 1,
   "metadata": {},
   "outputs": [
    {
     "name": "stdout",
     "output_type": "stream",
     "text": [
      "Python 3.8.16\n"
     ]
    }
   ],
   "source": [
    "!python --version "
   ]
  },
  {
   "cell_type": "markdown",
   "metadata": {},
   "source": [
    "First try to install mordecai the \"normal\" way using the version in PyPi."
   ]
  },
  {
   "cell_type": "code",
   "execution_count": 3,
   "metadata": {},
   "outputs": [
    {
     "name": "stdout",
     "output_type": "stream",
     "text": [
      "Collecting mordecai\n",
      "  Using cached mordecai-2.1.0.tar.gz (18.8 MB)\n",
      "  Preparing metadata (setup.py): started\n",
      "  Preparing metadata (setup.py): finished with status 'done'\n",
      "Collecting editdistance>=0.5.3\n",
      "  Using cached editdistance-0.6.2-cp38-cp38-win_amd64.whl (22 kB)\n",
      "Collecting elasticsearch==5.4.0\n",
      "  Using cached elasticsearch-5.4.0-py2.py3-none-any.whl (58 kB)\n",
      "Collecting elasticsearch-dsl==5.3.0\n",
      "  Using cached elasticsearch_dsl-5.3.0-py2.py3-none-any.whl (46 kB)\n",
      "Requirement already satisfied: h5py>=2.10.0 in c:\\users\\deviv\\anaconda3\\envs\\mordecai_env_3.8\\lib\\site-packages (from mordecai) (3.8.0)\n",
      "Collecting pandas>=0.24.2\n",
      "  Downloading pandas-1.5.3-cp38-cp38-win_amd64.whl (11.0 MB)\n",
      "     ---------------------------------------- 11.0/11.0 MB 9.1 MB/s eta 0:00:00\n",
      "Requirement already satisfied: spacy<3.0,>=2.3 in c:\\users\\deviv\\anaconda3\\envs\\mordecai_env_3.8\\lib\\site-packages (from mordecai) (2.3.0)\n",
      "Collecting tensorflow>=2.2.0\n",
      "  Downloading tensorflow-2.11.0-cp38-cp38-win_amd64.whl (1.9 kB)\n",
      "Requirement already satisfied: tqdm>=4.28.1 in c:\\users\\deviv\\anaconda3\\envs\\mordecai_env_3.8\\lib\\site-packages (from mordecai) (4.65.0)\n",
      "Requirement already satisfied: numpy>=1.12 in c:\\users\\deviv\\anaconda3\\envs\\mordecai_env_3.8\\lib\\site-packages (from mordecai) (1.21.0)\n",
      "Requirement already satisfied: urllib3<2.0,>=1.8 in c:\\users\\deviv\\anaconda3\\envs\\mordecai_env_3.8\\lib\\site-packages (from elasticsearch==5.4.0->mordecai) (1.26.15)\n",
      "Collecting six\n",
      "  Using cached six-1.16.0-py2.py3-none-any.whl (11 kB)\n",
      "Collecting python-dateutil\n",
      "  Using cached python_dateutil-2.8.2-py2.py3-none-any.whl (247 kB)\n",
      "Collecting pytz>=2020.1\n",
      "  Using cached pytz-2022.7.1-py2.py3-none-any.whl (499 kB)\n",
      "Requirement already satisfied: srsly<1.1.0,>=1.0.2 in c:\\users\\deviv\\anaconda3\\envs\\mordecai_env_3.8\\lib\\site-packages (from spacy<3.0,>=2.3->mordecai) (1.0.6)\n",
      "Requirement already satisfied: wasabi<1.1.0,>=0.4.0 in c:\\users\\deviv\\anaconda3\\envs\\mordecai_env_3.8\\lib\\site-packages (from spacy<3.0,>=2.3->mordecai) (0.10.1)\n",
      "Requirement already satisfied: thinc==7.4.1 in c:\\users\\deviv\\anaconda3\\envs\\mordecai_env_3.8\\lib\\site-packages (from spacy<3.0,>=2.3->mordecai) (7.4.1)\n",
      "Requirement already satisfied: blis<0.5.0,>=0.4.0 in c:\\users\\deviv\\anaconda3\\envs\\mordecai_env_3.8\\lib\\site-packages (from spacy<3.0,>=2.3->mordecai) (0.4.1)\n",
      "Requirement already satisfied: preshed<3.1.0,>=3.0.2 in c:\\users\\deviv\\anaconda3\\envs\\mordecai_env_3.8\\lib\\site-packages (from spacy<3.0,>=2.3->mordecai) (3.0.8)\n",
      "Requirement already satisfied: setuptools in c:\\users\\deviv\\anaconda3\\envs\\mordecai_env_3.8\\lib\\site-packages (from spacy<3.0,>=2.3->mordecai) (67.5.1)\n",
      "Requirement already satisfied: cymem<2.1.0,>=2.0.2 in c:\\users\\deviv\\anaconda3\\envs\\mordecai_env_3.8\\lib\\site-packages (from spacy<3.0,>=2.3->mordecai) (2.0.7)\n",
      "Requirement already satisfied: murmurhash<1.1.0,>=0.28.0 in c:\\users\\deviv\\anaconda3\\envs\\mordecai_env_3.8\\lib\\site-packages (from spacy<3.0,>=2.3->mordecai) (1.0.9)\n",
      "Requirement already satisfied: plac<1.2.0,>=0.9.6 in c:\\users\\deviv\\anaconda3\\envs\\mordecai_env_3.8\\lib\\site-packages (from spacy<3.0,>=2.3->mordecai) (1.1.3)\n",
      "Requirement already satisfied: catalogue<1.1.0,>=0.0.7 in c:\\users\\deviv\\anaconda3\\envs\\mordecai_env_3.8\\lib\\site-packages (from spacy<3.0,>=2.3->mordecai) (1.0.2)\n",
      "Requirement already satisfied: requests<3.0.0,>=2.13.0 in c:\\users\\deviv\\anaconda3\\envs\\mordecai_env_3.8\\lib\\site-packages (from spacy<3.0,>=2.3->mordecai) (2.28.2)\n",
      "Collecting tensorflow-intel==2.11.0\n",
      "  Downloading tensorflow_intel-2.11.0-cp38-cp38-win_amd64.whl (266.3 MB)\n",
      "     -------------------------------------- 266.3/266.3 MB 5.8 MB/s eta 0:00:00\n",
      "Collecting tensorboard<2.12,>=2.11\n",
      "  Using cached tensorboard-2.11.2-py3-none-any.whl (6.0 MB)\n",
      "Collecting grpcio<2.0,>=1.24.3\n",
      "  Downloading grpcio-1.51.3-cp38-cp38-win_amd64.whl (3.7 MB)\n",
      "     ---------------------------------------- 3.7/3.7 MB 13.3 MB/s eta 0:00:00\n",
      "Collecting gast<=0.4.0,>=0.2.1\n",
      "  Using cached gast-0.4.0-py3-none-any.whl (9.8 kB)\n",
      "Collecting keras<2.12,>=2.11.0\n",
      "  Using cached keras-2.11.0-py2.py3-none-any.whl (1.7 MB)\n",
      "Collecting flatbuffers>=2.0\n",
      "  Downloading flatbuffers-23.3.3-py2.py3-none-any.whl (26 kB)\n",
      "Collecting opt-einsum>=2.3.2\n",
      "  Using cached opt_einsum-3.3.0-py3-none-any.whl (65 kB)\n",
      "Collecting tensorflow-io-gcs-filesystem>=0.23.1\n",
      "  Downloading tensorflow_io_gcs_filesystem-0.31.0-cp38-cp38-win_amd64.whl (1.5 MB)\n",
      "     ---------------------------------------- 1.5/1.5 MB 13.5 MB/s eta 0:00:00\n",
      "Collecting google-pasta>=0.1.1\n",
      "  Using cached google_pasta-0.2.0-py3-none-any.whl (57 kB)\n",
      "Collecting wrapt>=1.11.0\n",
      "  Downloading wrapt-1.15.0-cp38-cp38-win_amd64.whl (36 kB)\n",
      "Collecting astunparse>=1.6.0\n",
      "  Using cached astunparse-1.6.3-py2.py3-none-any.whl (12 kB)\n",
      "Collecting packaging\n",
      "  Using cached packaging-23.0-py3-none-any.whl (42 kB)\n",
      "Collecting tensorflow-estimator<2.12,>=2.11.0\n",
      "  Using cached tensorflow_estimator-2.11.0-py2.py3-none-any.whl (439 kB)\n",
      "Collecting libclang>=13.0.0\n",
      "  Using cached libclang-15.0.6.1-py2.py3-none-win_amd64.whl (23.2 MB)\n",
      "Collecting absl-py>=1.0.0\n",
      "  Using cached absl_py-1.4.0-py3-none-any.whl (126 kB)\n",
      "Collecting protobuf<3.20,>=3.9.2\n",
      "  Downloading protobuf-3.19.6-cp38-cp38-win_amd64.whl (896 kB)\n",
      "     ------------------------------------- 896.1/896.1 kB 14.3 MB/s eta 0:00:00\n",
      "Collecting typing-extensions>=3.6.6\n",
      "  Using cached typing_extensions-4.5.0-py3-none-any.whl (27 kB)\n",
      "Collecting termcolor>=1.1.0\n",
      "  Using cached termcolor-2.2.0-py3-none-any.whl (6.6 kB)\n",
      "Requirement already satisfied: colorama in c:\\users\\deviv\\anaconda3\\envs\\mordecai_env_3.8\\lib\\site-packages (from tqdm>=4.28.1->mordecai) (0.4.6)\n",
      "Requirement already satisfied: charset-normalizer<4,>=2 in c:\\users\\deviv\\anaconda3\\envs\\mordecai_env_3.8\\lib\\site-packages (from requests<3.0.0,>=2.13.0->spacy<3.0,>=2.3->mordecai) (3.1.0)\n",
      "Requirement already satisfied: idna<4,>=2.5 in c:\\users\\deviv\\anaconda3\\envs\\mordecai_env_3.8\\lib\\site-packages (from requests<3.0.0,>=2.13.0->spacy<3.0,>=2.3->mordecai) (3.4)\n",
      "Requirement already satisfied: certifi>=2017.4.17 in c:\\users\\deviv\\anaconda3\\envs\\mordecai_env_3.8\\lib\\site-packages (from requests<3.0.0,>=2.13.0->spacy<3.0,>=2.3->mordecai) (2022.12.7)\n",
      "Requirement already satisfied: wheel<1.0,>=0.23.0 in c:\\users\\deviv\\anaconda3\\envs\\mordecai_env_3.8\\lib\\site-packages (from astunparse>=1.6.0->tensorflow-intel==2.11.0->tensorflow>=2.2.0->mordecai) (0.38.4)\n",
      "Collecting google-auth-oauthlib<0.5,>=0.4.1\n",
      "  Using cached google_auth_oauthlib-0.4.6-py2.py3-none-any.whl (18 kB)\n",
      "Collecting tensorboard-plugin-wit>=1.6.0\n",
      "  Using cached tensorboard_plugin_wit-1.8.1-py3-none-any.whl (781 kB)\n",
      "Collecting markdown>=2.6.8\n",
      "  Using cached Markdown-3.4.1-py3-none-any.whl (93 kB)\n",
      "Collecting tensorboard-data-server<0.7.0,>=0.6.0\n",
      "  Using cached tensorboard_data_server-0.6.1-py3-none-any.whl (2.4 kB)\n",
      "Collecting google-auth<3,>=1.6.3\n",
      "  Downloading google_auth-2.16.2-py2.py3-none-any.whl (177 kB)\n",
      "     ---------------------------------------- 177.2/177.2 kB ? eta 0:00:00\n",
      "Collecting werkzeug>=1.0.1\n",
      "  Using cached Werkzeug-2.2.3-py3-none-any.whl (233 kB)\n",
      "Collecting cachetools<6.0,>=2.0.0\n",
      "  Using cached cachetools-5.3.0-py3-none-any.whl (9.3 kB)\n",
      "Collecting pyasn1-modules>=0.2.1\n",
      "  Using cached pyasn1_modules-0.2.8-py2.py3-none-any.whl (155 kB)\n",
      "Collecting rsa<5,>=3.1.4\n",
      "  Using cached rsa-4.9-py3-none-any.whl (34 kB)\n",
      "Collecting requests-oauthlib>=0.7.0\n",
      "  Using cached requests_oauthlib-1.3.1-py2.py3-none-any.whl (23 kB)\n",
      "Collecting importlib-metadata>=4.4\n",
      "  Using cached importlib_metadata-6.0.0-py3-none-any.whl (21 kB)\n",
      "Collecting MarkupSafe>=2.1.1\n",
      "  Downloading MarkupSafe-2.1.2-cp38-cp38-win_amd64.whl (16 kB)\n",
      "Collecting zipp>=0.5\n",
      "  Using cached zipp-3.15.0-py3-none-any.whl (6.8 kB)\n",
      "Collecting pyasn1<0.5.0,>=0.4.6\n",
      "  Using cached pyasn1-0.4.8-py2.py3-none-any.whl (77 kB)\n",
      "Collecting oauthlib>=3.0.0\n",
      "  Using cached oauthlib-3.2.2-py3-none-any.whl (151 kB)\n",
      "Building wheels for collected packages: mordecai\n",
      "  Building wheel for mordecai (setup.py): started\n",
      "  Building wheel for mordecai (setup.py): finished with status 'done'\n",
      "  Created wheel for mordecai: filename=mordecai-2.1.0-py3-none-any.whl size=18829217 sha256=775b11a1f63733799615c9db4d5e980eb781d4ef073995e52091bafe91068c6f\n",
      "  Stored in directory: c:\\users\\deviv\\appdata\\local\\pip\\cache\\wheels\\f5\\5d\\10\\61a5e506055a0350ee2ed4e919258276fa3978bf277e8bf20c\n",
      "Successfully built mordecai\n",
      "Installing collected packages: tensorboard-plugin-wit, pytz, pyasn1, libclang, flatbuffers, zipp, wrapt, typing-extensions, termcolor, tensorflow-io-gcs-filesystem, tensorflow-estimator, tensorboard-data-server, six, rsa, pyasn1-modules, protobuf, packaging, opt-einsum, oauthlib, MarkupSafe, keras, grpcio, gast, elasticsearch, editdistance, cachetools, absl-py, werkzeug, requests-oauthlib, python-dateutil, importlib-metadata, google-pasta, google-auth, astunparse, pandas, markdown, google-auth-oauthlib, elasticsearch-dsl, tensorboard, tensorflow-intel, tensorflow, mordecai\n",
      "Successfully installed MarkupSafe-2.1.2 absl-py-1.4.0 astunparse-1.6.3 cachetools-5.3.0 editdistance-0.6.2 elasticsearch-5.4.0 elasticsearch-dsl-5.3.0 flatbuffers-23.3.3 gast-0.4.0 google-auth-2.16.2 google-auth-oauthlib-0.4.6 google-pasta-0.2.0 grpcio-1.51.3 importlib-metadata-6.0.0 keras-2.11.0 libclang-15.0.6.1 markdown-3.4.1 mordecai-2.1.0 oauthlib-3.2.2 opt-einsum-3.3.0 packaging-23.0 pandas-1.5.3 protobuf-3.19.6 pyasn1-0.4.8 pyasn1-modules-0.2.8 python-dateutil-2.8.2 pytz-2022.7.1 requests-oauthlib-1.3.1 rsa-4.9 six-1.16.0 tensorboard-2.11.2 tensorboard-data-server-0.6.1 tensorboard-plugin-wit-1.8.1 tensorflow-2.11.0 tensorflow-estimator-2.11.0 tensorflow-intel-2.11.0 tensorflow-io-gcs-filesystem-0.31.0 termcolor-2.2.0 typing-extensions-4.5.0 werkzeug-2.2.3 wrapt-1.15.0 zipp-3.15.0\n",
      "Requirement already satisfied: spacy==2.3 in c:\\users\\deviv\\anaconda3\\envs\\mordecai_env_3.8\\lib\\site-packages (2.3.0)\n",
      "Requirement already satisfied: requests<3.0.0,>=2.13.0 in c:\\users\\deviv\\anaconda3\\envs\\mordecai_env_3.8\\lib\\site-packages (from spacy==2.3) (2.28.2)\n",
      "Requirement already satisfied: murmurhash<1.1.0,>=0.28.0 in c:\\users\\deviv\\anaconda3\\envs\\mordecai_env_3.8\\lib\\site-packages (from spacy==2.3) (1.0.9)\n",
      "Requirement already satisfied: wasabi<1.1.0,>=0.4.0 in c:\\users\\deviv\\anaconda3\\envs\\mordecai_env_3.8\\lib\\site-packages (from spacy==2.3) (0.10.1)\n",
      "Requirement already satisfied: catalogue<1.1.0,>=0.0.7 in c:\\users\\deviv\\anaconda3\\envs\\mordecai_env_3.8\\lib\\site-packages (from spacy==2.3) (1.0.2)\n",
      "Requirement already satisfied: tqdm<5.0.0,>=4.38.0 in c:\\users\\deviv\\anaconda3\\envs\\mordecai_env_3.8\\lib\\site-packages (from spacy==2.3) (4.65.0)\n",
      "Requirement already satisfied: numpy>=1.15.0 in c:\\users\\deviv\\anaconda3\\envs\\mordecai_env_3.8\\lib\\site-packages (from spacy==2.3) (1.21.0)\n",
      "Requirement already satisfied: preshed<3.1.0,>=3.0.2 in c:\\users\\deviv\\anaconda3\\envs\\mordecai_env_3.8\\lib\\site-packages (from spacy==2.3) (3.0.8)\n",
      "Requirement already satisfied: srsly<1.1.0,>=1.0.2 in c:\\users\\deviv\\anaconda3\\envs\\mordecai_env_3.8\\lib\\site-packages (from spacy==2.3) (1.0.6)\n",
      "Requirement already satisfied: blis<0.5.0,>=0.4.0 in c:\\users\\deviv\\anaconda3\\envs\\mordecai_env_3.8\\lib\\site-packages (from spacy==2.3) (0.4.1)\n",
      "Requirement already satisfied: setuptools in c:\\users\\deviv\\anaconda3\\envs\\mordecai_env_3.8\\lib\\site-packages (from spacy==2.3) (67.5.1)\n",
      "Requirement already satisfied: thinc==7.4.1 in c:\\users\\deviv\\anaconda3\\envs\\mordecai_env_3.8\\lib\\site-packages (from spacy==2.3) (7.4.1)\n",
      "Requirement already satisfied: plac<1.2.0,>=0.9.6 in c:\\users\\deviv\\anaconda3\\envs\\mordecai_env_3.8\\lib\\site-packages (from spacy==2.3) (1.1.3)\n",
      "Requirement already satisfied: cymem<2.1.0,>=2.0.2 in c:\\users\\deviv\\anaconda3\\envs\\mordecai_env_3.8\\lib\\site-packages (from spacy==2.3) (2.0.7)\n",
      "Requirement already satisfied: idna<4,>=2.5 in c:\\users\\deviv\\anaconda3\\envs\\mordecai_env_3.8\\lib\\site-packages (from requests<3.0.0,>=2.13.0->spacy==2.3) (3.4)\n",
      "Requirement already satisfied: certifi>=2017.4.17 in c:\\users\\deviv\\anaconda3\\envs\\mordecai_env_3.8\\lib\\site-packages (from requests<3.0.0,>=2.13.0->spacy==2.3) (2022.12.7)\n",
      "Requirement already satisfied: charset-normalizer<4,>=2 in c:\\users\\deviv\\anaconda3\\envs\\mordecai_env_3.8\\lib\\site-packages (from requests<3.0.0,>=2.13.0->spacy==2.3) (3.1.0)\n",
      "Requirement already satisfied: urllib3<1.27,>=1.21.1 in c:\\users\\deviv\\anaconda3\\envs\\mordecai_env_3.8\\lib\\site-packages (from requests<3.0.0,>=2.13.0->spacy==2.3) (1.26.15)\n",
      "Requirement already satisfied: colorama in c:\\users\\deviv\\anaconda3\\envs\\mordecai_env_3.8\\lib\\site-packages (from tqdm<5.0.0,>=4.38.0->spacy==2.3) (0.4.6)\n",
      "Requirement already satisfied: numpy==1.21 in c:\\users\\deviv\\anaconda3\\envs\\mordecai_env_3.8\\lib\\site-packages (1.21.0)\n",
      "Requirement already satisfied: h5py==3.8.0 in c:\\users\\deviv\\anaconda3\\envs\\mordecai_env_3.8\\lib\\site-packages (3.8.0)\n",
      "Requirement already satisfied: numpy>=1.14.5 in c:\\users\\deviv\\anaconda3\\envs\\mordecai_env_3.8\\lib\\site-packages (from h5py==3.8.0) (1.21.0)\n"
     ]
    }
   ],
   "source": [
    "!pip install mordecai # !pip install mordecai-2.1.0.tar.gz\n",
    "!pip install spacy==2.3\n",
    "!pip install numpy==1.21\n",
    "!pip install h5py==3.8.0"
   ]
  },
  {
   "cell_type": "code",
   "execution_count": 1,
   "metadata": {},
   "outputs": [
    {
     "name": "stdout",
     "output_type": "stream",
     "text": [
      "Package                      Version\n",
      "---------------------------- ---------\n",
      "absl-py                      1.4.0\n",
      "astunparse                   1.6.3\n",
      "blis                         0.4.1\n",
      "cachetools                   5.3.0\n",
      "catalogue                    1.0.2\n",
      "certifi                      2022.12.7\n",
      "charset-normalizer           3.1.0\n",
      "colorama                     0.4.6\n",
      "cymem                        2.0.7\n",
      "editdistance                 0.6.2\n",
      "elasticsearch                5.4.0\n",
      "elasticsearch-dsl            5.3.0\n",
      "flatbuffers                  23.3.3\n",
      "gast                         0.4.0\n",
      "google-auth                  2.16.2\n",
      "google-auth-oauthlib         0.4.6\n",
      "google-pasta                 0.2.0\n",
      "grpcio                       1.51.3\n",
      "h5py                         3.8.0\n",
      "idna                         3.4\n",
      "importlib-metadata           6.0.0\n",
      "keras                        2.11.0\n",
      "libclang                     15.0.6.1\n",
      "Markdown                     3.4.1\n",
      "MarkupSafe                   2.1.2\n",
      "mordecai                     2.1.0\n",
      "murmurhash                   1.0.9\n",
      "numpy                        1.21.0\n",
      "oauthlib                     3.2.2\n",
      "opt-einsum                   3.3.0\n",
      "packaging                    23.0\n",
      "pandas                       1.5.3\n",
      "pip                          23.0.1\n",
      "plac                         1.1.3\n",
      "preshed                      3.0.8\n",
      "protobuf                     3.19.6\n",
      "pyasn1                       0.4.8\n",
      "pyasn1-modules               0.2.8\n",
      "python-dateutil              2.8.2\n",
      "pytz                         2022.7.1\n",
      "requests                     2.28.2\n",
      "requests-oauthlib            1.3.1\n",
      "rsa                          4.9\n",
      "setuptools                   67.5.1\n",
      "six                          1.16.0\n",
      "spacy                        2.3.0\n",
      "srsly                        1.0.6\n",
      "tensorboard                  2.11.2\n",
      "tensorboard-data-server      0.6.1\n",
      "tensorboard-plugin-wit       1.8.1\n",
      "tensorflow                   2.11.0\n",
      "tensorflow-estimator         2.11.0\n",
      "tensorflow-intel             2.11.0\n",
      "tensorflow-io-gcs-filesystem 0.31.0\n",
      "termcolor                    2.2.0\n",
      "thinc                        7.4.1\n",
      "tqdm                         4.65.0\n",
      "typing_extensions            4.5.0\n",
      "urllib3                      1.26.15\n",
      "wasabi                       0.10.1\n",
      "Werkzeug                     2.2.3\n",
      "wheel                        0.38.4\n",
      "wrapt                        1.15.0\n",
      "zipp                         3.15.0\n"
     ]
    }
   ],
   "source": [
    "!pip list"
   ]
  },
  {
   "cell_type": "code",
   "execution_count": 4,
   "metadata": {},
   "outputs": [
    {
     "name": "stdout",
     "output_type": "stream",
     "text": [
      "^C\n"
     ]
    }
   ],
   "source": [
    "!python -m spacy download en_core_web_lg"
   ]
  },
  {
   "cell_type": "code",
   "execution_count": null,
   "metadata": {},
   "outputs": [],
   "source": [
    "!docker pull elasticsearch:5.5.2"
   ]
  },
  {
   "cell_type": "code",
   "execution_count": null,
   "metadata": {},
   "outputs": [],
   "source": [
    "!wget https://andrewhalterman.com/files/geonames_index.tar.gz --output-file=wget_log.txt\n",
    "!tar -xzf geonames_index.tar.gz"
   ]
  },
  {
   "cell_type": "markdown",
   "metadata": {},
   "source": [
    "Note that I have to disable my antivirus software otherwise geonames_index is read only. Do this by: Windows Security > Virus & Threat protection settings > toggle off Real-time protection."
   ]
  },
  {
   "cell_type": "code",
   "execution_count": 5,
   "metadata": {},
   "outputs": [
    {
     "name": "stderr",
     "output_type": "stream",
     "text": [
      "docker: Error response from daemon: mkdir C:\\Users\\dveytia: Access is denied.\n",
      "See 'docker run --help'.\n"
     ]
    }
   ],
   "source": [
    "!docker run -d -p 127.0.0.1:9200:9200 -v C:/Users/dveytia/Python-working-folder/test-mordecai/geonames_index/:/usr/share/elasticsearch/data elasticsearch:5.5.2\n",
    "#!docker run -d -p 127.0.0.1:9200:9200 elasticsearch:5.5.2"
   ]
  },
  {
   "cell_type": "code",
   "execution_count": 1,
   "metadata": {},
   "outputs": [],
   "source": [
    "from mordecai import Geoparser"
   ]
  },
  {
   "cell_type": "code",
   "execution_count": 2,
   "metadata": {},
   "outputs": [
    {
     "name": "stdout",
     "output_type": "stream",
     "text": [
      "Models path: C:\\Users\\deviv\\anaconda3\\envs\\mordecai_env_3.8\\lib\\site-packages\\mordecai\\models\\\n"
     ]
    }
   ],
   "source": [
    "geo = Geoparser()"
   ]
  },
  {
   "cell_type": "code",
   "execution_count": 3,
   "metadata": {},
   "outputs": [
    {
     "name": "stdout",
     "output_type": "stream",
     "text": [
      "1/1 [==============================] - 0s 99ms/step\n",
      "1/1 [==============================] - 0s 15ms/step\n",
      "1/1 [==============================] - 0s 15ms/step\n",
      "1/1 [==============================] - 0s 41ms/step\n",
      "1/1 [==============================] - 0s 15ms/step\n"
     ]
    },
    {
     "data": {
      "text/plain": [
       "[{'word': 'Oxford',\n",
       "  'spans': [{'start': 16, 'end': 22}],\n",
       "  'country_predicted': 'GBR',\n",
       "  'country_conf': 0.95718795,\n",
       "  'geo': {'admin1': 'England',\n",
       "   'lat': '51.75222',\n",
       "   'lon': '-1.25596',\n",
       "   'country_code3': 'GBR',\n",
       "   'geonameid': '2640729',\n",
       "   'place_name': 'Oxford',\n",
       "   'feature_class': 'P',\n",
       "   'feature_code': 'PPLA2'}},\n",
       " {'word': 'Ottawa',\n",
       "  'spans': [{'start': 26, 'end': 32}],\n",
       "  'country_predicted': 'CAN',\n",
       "  'country_conf': 0.87992215,\n",
       "  'geo': {'admin1': 'Ontario',\n",
       "   'lat': '45.41117',\n",
       "   'lon': '-75.69812',\n",
       "   'country_code3': 'CAN',\n",
       "   'geonameid': '6094817',\n",
       "   'place_name': 'Ottawa',\n",
       "   'feature_class': 'P',\n",
       "   'feature_code': 'PPLC'}}]"
      ]
     },
     "execution_count": 3,
     "metadata": {},
     "output_type": "execute_result"
    }
   ],
   "source": [
    "geo.geoparse(\"I traveled from Oxford to Ottawa.\")"
   ]
  }
 ],
 "metadata": {
  "kernelspec": {
   "display_name": "envname",
   "language": "python",
   "name": "envname"
  },
  "language_info": {
   "codemirror_mode": {
    "name": "ipython",
    "version": 3
   },
   "file_extension": ".py",
   "mimetype": "text/x-python",
   "name": "python",
   "nbconvert_exporter": "python",
   "pygments_lexer": "ipython3",
   "version": "3.8.16"
  }
 },
 "nbformat": 4,
 "nbformat_minor": 4
}
