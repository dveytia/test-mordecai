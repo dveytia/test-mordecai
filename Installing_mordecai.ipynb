{
 "cells": [
  {
   "cell_type": "code",
   "execution_count": 2,
   "metadata": {},
   "outputs": [],
   "source": [
    "#!python -m venv mordecai-env\n",
    "#!mordecai-env\\Scripts\\activate"
   ]
  },
  {
   "cell_type": "code",
   "execution_count": 1,
   "metadata": {},
   "outputs": [
    {
     "name": "stdout",
     "output_type": "stream",
     "text": [
      "Python 3.8.16\n"
     ]
    }
   ],
   "source": [
    "!python --version "
   ]
  },
  {
   "cell_type": "code",
   "execution_count": 1,
   "metadata": {},
   "outputs": [
    {
     "name": "stdout",
     "output_type": "stream",
     "text": [
      "Collecting ipykernel\n",
      "  Downloading ipykernel-6.21.3-py3-none-any.whl (149 kB)\n",
      "     -------------------------------------- 149.4/149.4 kB 1.5 MB/s eta 0:00:00\n",
      "Collecting comm>=0.1.1\n",
      "  Using cached comm-0.1.2-py3-none-any.whl (6.5 kB)\n",
      "Collecting matplotlib-inline>=0.1\n",
      "  Using cached matplotlib_inline-0.1.6-py3-none-any.whl (9.4 kB)\n",
      "Collecting jupyter-core!=5.0.*,>=4.12\n",
      "  Using cached jupyter_core-5.2.0-py3-none-any.whl (94 kB)\n",
      "Collecting nest-asyncio\n",
      "  Using cached nest_asyncio-1.5.6-py3-none-any.whl (5.2 kB)\n",
      "Requirement already satisfied: packaging in c:\\users\\deviv\\anaconda3\\envs\\mordecai_env_3.8\\lib\\site-packages (from ipykernel) (23.0)\n",
      "Collecting jupyter-client>=6.1.12\n",
      "  Using cached jupyter_client-8.0.3-py3-none-any.whl (102 kB)\n",
      "Collecting pyzmq>=20\n",
      "  Downloading pyzmq-25.0.1-cp38-cp38-win_amd64.whl (1.1 MB)\n",
      "     ---------------------------------------- 1.1/1.1 MB 14.5 MB/s eta 0:00:00\n",
      "Collecting ipython>=7.23.1\n",
      "  Using cached ipython-8.11.0-py3-none-any.whl (793 kB)\n",
      "Collecting debugpy>=1.6.5\n",
      "  Downloading debugpy-1.6.6-cp38-cp38-win_amd64.whl (4.9 MB)\n",
      "     ---------------------------------------- 4.9/4.9 MB 13.4 MB/s eta 0:00:00\n",
      "Collecting traitlets>=5.4.0\n",
      "  Using cached traitlets-5.9.0-py3-none-any.whl (117 kB)\n",
      "Collecting psutil\n",
      "  Using cached psutil-5.9.4-cp36-abi3-win_amd64.whl (252 kB)\n",
      "Collecting tornado>=6.1\n",
      "  Using cached tornado-6.2-cp37-abi3-win_amd64.whl (425 kB)\n",
      "Collecting backcall\n",
      "  Using cached backcall-0.2.0-py2.py3-none-any.whl (11 kB)\n",
      "Collecting pygments>=2.4.0\n",
      "  Using cached Pygments-2.14.0-py3-none-any.whl (1.1 MB)\n",
      "Collecting jedi>=0.16\n",
      "  Using cached jedi-0.18.2-py2.py3-none-any.whl (1.6 MB)\n",
      "Requirement already satisfied: colorama in c:\\users\\deviv\\anaconda3\\envs\\mordecai_env_3.8\\lib\\site-packages (from ipython>=7.23.1->ipykernel) (0.4.6)\n",
      "Collecting decorator\n",
      "  Using cached decorator-5.1.1-py3-none-any.whl (9.1 kB)\n",
      "Collecting pickleshare\n",
      "  Using cached pickleshare-0.7.5-py2.py3-none-any.whl (6.9 kB)\n",
      "Collecting prompt-toolkit!=3.0.37,<3.1.0,>=3.0.30\n",
      "  Using cached prompt_toolkit-3.0.38-py3-none-any.whl (385 kB)\n",
      "Collecting stack-data\n",
      "  Using cached stack_data-0.6.2-py3-none-any.whl (24 kB)\n",
      "Requirement already satisfied: python-dateutil>=2.8.2 in c:\\users\\deviv\\anaconda3\\envs\\mordecai_env_3.8\\lib\\site-packages (from jupyter-client>=6.1.12->ipykernel) (2.8.2)\n",
      "Requirement already satisfied: importlib-metadata>=4.8.3 in c:\\users\\deviv\\anaconda3\\envs\\mordecai_env_3.8\\lib\\site-packages (from jupyter-client>=6.1.12->ipykernel) (6.0.0)\n",
      "Collecting pywin32>=1.0\n",
      "  Downloading pywin32-305-cp38-cp38-win_amd64.whl (12.3 MB)\n",
      "     --------------------------------------- 12.3/12.3 MB 10.9 MB/s eta 0:00:00\n",
      "Collecting platformdirs>=2.5\n",
      "  Downloading platformdirs-3.1.1-py3-none-any.whl (14 kB)\n",
      "Requirement already satisfied: zipp>=0.5 in c:\\users\\deviv\\anaconda3\\envs\\mordecai_env_3.8\\lib\\site-packages (from importlib-metadata>=4.8.3->jupyter-client>=6.1.12->ipykernel) (3.15.0)\n",
      "Collecting parso<0.9.0,>=0.8.0\n",
      "  Using cached parso-0.8.3-py2.py3-none-any.whl (100 kB)\n",
      "Collecting wcwidth\n",
      "  Using cached wcwidth-0.2.6-py2.py3-none-any.whl (29 kB)\n",
      "Requirement already satisfied: six>=1.5 in c:\\users\\deviv\\anaconda3\\envs\\mordecai_env_3.8\\lib\\site-packages (from python-dateutil>=2.8.2->jupyter-client>=6.1.12->ipykernel) (1.16.0)\n",
      "Collecting pure-eval\n",
      "  Using cached pure_eval-0.2.2-py3-none-any.whl (11 kB)\n",
      "Collecting asttokens>=2.1.0\n",
      "  Using cached asttokens-2.2.1-py2.py3-none-any.whl (26 kB)\n",
      "Collecting executing>=1.2.0\n",
      "  Using cached executing-1.2.0-py2.py3-none-any.whl (24 kB)\n",
      "Installing collected packages: wcwidth, pywin32, pure-eval, pickleshare, executing, backcall, traitlets, tornado, pyzmq, pygments, psutil, prompt-toolkit, platformdirs, parso, nest-asyncio, decorator, debugpy, asttokens, stack-data, matplotlib-inline, jupyter-core, jedi, comm, jupyter-client, ipython, ipykernel\n",
      "Successfully installed asttokens-2.2.1 backcall-0.2.0 comm-0.1.2 debugpy-1.6.6 decorator-5.1.1 executing-1.2.0 ipykernel-6.21.3 ipython-8.11.0 jedi-0.18.2 jupyter-client-8.0.3 jupyter-core-5.2.0 matplotlib-inline-0.1.6 nest-asyncio-1.5.6 parso-0.8.3 pickleshare-0.7.5 platformdirs-3.1.1 prompt-toolkit-3.0.38 psutil-5.9.4 pure-eval-0.2.2 pygments-2.14.0 pywin32-305 pyzmq-25.0.1 stack-data-0.6.2 tornado-6.2 traitlets-5.9.0 wcwidth-0.2.6\n"
     ]
    }
   ],
   "source": [
    "!pip install ipykernel"
   ]
  },
  {
   "cell_type": "markdown",
   "metadata": {},
   "source": [
    "First try to install mordecai the \"normal\" way using the version in PyPi."
   ]
  },
  {
   "cell_type": "code",
   "execution_count": 3,
   "metadata": {},
   "outputs": [
    {
     "name": "stdout",
     "output_type": "stream",
     "text": [
      "Collecting mordecai\n",
      "  Using cached mordecai-2.1.0.tar.gz (18.8 MB)\n",
      "  Preparing metadata (setup.py): started\n",
      "  Preparing metadata (setup.py): finished with status 'done'\n",
      "Collecting editdistance>=0.5.3\n",
      "  Using cached editdistance-0.6.2-cp38-cp38-win_amd64.whl (22 kB)\n",
      "Collecting elasticsearch==5.4.0\n",
      "  Using cached elasticsearch-5.4.0-py2.py3-none-any.whl (58 kB)\n",
      "Collecting elasticsearch-dsl==5.3.0\n",
      "  Using cached elasticsearch_dsl-5.3.0-py2.py3-none-any.whl (46 kB)\n",
      "Requirement already satisfied: h5py>=2.10.0 in c:\\users\\deviv\\anaconda3\\envs\\mordecai_env_3.8\\lib\\site-packages (from mordecai) (3.8.0)\n",
      "Collecting pandas>=0.24.2\n",
      "  Downloading pandas-1.5.3-cp38-cp38-win_amd64.whl (11.0 MB)\n",
      "     ---------------------------------------- 11.0/11.0 MB 9.1 MB/s eta 0:00:00\n",
      "Requirement already satisfied: spacy<3.0,>=2.3 in c:\\users\\deviv\\anaconda3\\envs\\mordecai_env_3.8\\lib\\site-packages (from mordecai) (2.3.0)\n",
      "Collecting tensorflow>=2.2.0\n",
      "  Downloading tensorflow-2.11.0-cp38-cp38-win_amd64.whl (1.9 kB)\n",
      "Requirement already satisfied: tqdm>=4.28.1 in c:\\users\\deviv\\anaconda3\\envs\\mordecai_env_3.8\\lib\\site-packages (from mordecai) (4.65.0)\n",
      "Requirement already satisfied: numpy>=1.12 in c:\\users\\deviv\\anaconda3\\envs\\mordecai_env_3.8\\lib\\site-packages (from mordecai) (1.21.0)\n",
      "Requirement already satisfied: urllib3<2.0,>=1.8 in c:\\users\\deviv\\anaconda3\\envs\\mordecai_env_3.8\\lib\\site-packages (from elasticsearch==5.4.0->mordecai) (1.26.15)\n",
      "Collecting six\n",
      "  Using cached six-1.16.0-py2.py3-none-any.whl (11 kB)\n",
      "Collecting python-dateutil\n",
      "  Using cached python_dateutil-2.8.2-py2.py3-none-any.whl (247 kB)\n",
      "Collecting pytz>=2020.1\n",
      "  Using cached pytz-2022.7.1-py2.py3-none-any.whl (499 kB)\n",
      "Requirement already satisfied: srsly<1.1.0,>=1.0.2 in c:\\users\\deviv\\anaconda3\\envs\\mordecai_env_3.8\\lib\\site-packages (from spacy<3.0,>=2.3->mordecai) (1.0.6)\n",
      "Requirement already satisfied: wasabi<1.1.0,>=0.4.0 in c:\\users\\deviv\\anaconda3\\envs\\mordecai_env_3.8\\lib\\site-packages (from spacy<3.0,>=2.3->mordecai) (0.10.1)\n",
      "Requirement already satisfied: thinc==7.4.1 in c:\\users\\deviv\\anaconda3\\envs\\mordecai_env_3.8\\lib\\site-packages (from spacy<3.0,>=2.3->mordecai) (7.4.1)\n",
      "Requirement already satisfied: blis<0.5.0,>=0.4.0 in c:\\users\\deviv\\anaconda3\\envs\\mordecai_env_3.8\\lib\\site-packages (from spacy<3.0,>=2.3->mordecai) (0.4.1)\n",
      "Requirement already satisfied: preshed<3.1.0,>=3.0.2 in c:\\users\\deviv\\anaconda3\\envs\\mordecai_env_3.8\\lib\\site-packages (from spacy<3.0,>=2.3->mordecai) (3.0.8)\n",
      "Requirement already satisfied: setuptools in c:\\users\\deviv\\anaconda3\\envs\\mordecai_env_3.8\\lib\\site-packages (from spacy<3.0,>=2.3->mordecai) (67.5.1)\n",
      "Requirement already satisfied: cymem<2.1.0,>=2.0.2 in c:\\users\\deviv\\anaconda3\\envs\\mordecai_env_3.8\\lib\\site-packages (from spacy<3.0,>=2.3->mordecai) (2.0.7)\n",
      "Requirement already satisfied: murmurhash<1.1.0,>=0.28.0 in c:\\users\\deviv\\anaconda3\\envs\\mordecai_env_3.8\\lib\\site-packages (from spacy<3.0,>=2.3->mordecai) (1.0.9)\n",
      "Requirement already satisfied: plac<1.2.0,>=0.9.6 in c:\\users\\deviv\\anaconda3\\envs\\mordecai_env_3.8\\lib\\site-packages (from spacy<3.0,>=2.3->mordecai) (1.1.3)\n",
      "Requirement already satisfied: catalogue<1.1.0,>=0.0.7 in c:\\users\\deviv\\anaconda3\\envs\\mordecai_env_3.8\\lib\\site-packages (from spacy<3.0,>=2.3->mordecai) (1.0.2)\n",
      "Requirement already satisfied: requests<3.0.0,>=2.13.0 in c:\\users\\deviv\\anaconda3\\envs\\mordecai_env_3.8\\lib\\site-packages (from spacy<3.0,>=2.3->mordecai) (2.28.2)\n",
      "Collecting tensorflow-intel==2.11.0\n",
      "  Downloading tensorflow_intel-2.11.0-cp38-cp38-win_amd64.whl (266.3 MB)\n",
      "     -------------------------------------- 266.3/266.3 MB 5.8 MB/s eta 0:00:00\n",
      "Collecting tensorboard<2.12,>=2.11\n",
      "  Using cached tensorboard-2.11.2-py3-none-any.whl (6.0 MB)\n",
      "Collecting grpcio<2.0,>=1.24.3\n",
      "  Downloading grpcio-1.51.3-cp38-cp38-win_amd64.whl (3.7 MB)\n",
      "     ---------------------------------------- 3.7/3.7 MB 13.3 MB/s eta 0:00:00\n",
      "Collecting gast<=0.4.0,>=0.2.1\n",
      "  Using cached gast-0.4.0-py3-none-any.whl (9.8 kB)\n",
      "Collecting keras<2.12,>=2.11.0\n",
      "  Using cached keras-2.11.0-py2.py3-none-any.whl (1.7 MB)\n",
      "Collecting flatbuffers>=2.0\n",
      "  Downloading flatbuffers-23.3.3-py2.py3-none-any.whl (26 kB)\n",
      "Collecting opt-einsum>=2.3.2\n",
      "  Using cached opt_einsum-3.3.0-py3-none-any.whl (65 kB)\n",
      "Collecting tensorflow-io-gcs-filesystem>=0.23.1\n",
      "  Downloading tensorflow_io_gcs_filesystem-0.31.0-cp38-cp38-win_amd64.whl (1.5 MB)\n",
      "     ---------------------------------------- 1.5/1.5 MB 13.5 MB/s eta 0:00:00\n",
      "Collecting google-pasta>=0.1.1\n",
      "  Using cached google_pasta-0.2.0-py3-none-any.whl (57 kB)\n",
      "Collecting wrapt>=1.11.0\n",
      "  Downloading wrapt-1.15.0-cp38-cp38-win_amd64.whl (36 kB)\n",
      "Collecting astunparse>=1.6.0\n",
      "  Using cached astunparse-1.6.3-py2.py3-none-any.whl (12 kB)\n",
      "Collecting packaging\n",
      "  Using cached packaging-23.0-py3-none-any.whl (42 kB)\n",
      "Collecting tensorflow-estimator<2.12,>=2.11.0\n",
      "  Using cached tensorflow_estimator-2.11.0-py2.py3-none-any.whl (439 kB)\n",
      "Collecting libclang>=13.0.0\n",
      "  Using cached libclang-15.0.6.1-py2.py3-none-win_amd64.whl (23.2 MB)\n",
      "Collecting absl-py>=1.0.0\n",
      "  Using cached absl_py-1.4.0-py3-none-any.whl (126 kB)\n",
      "Collecting protobuf<3.20,>=3.9.2\n",
      "  Downloading protobuf-3.19.6-cp38-cp38-win_amd64.whl (896 kB)\n",
      "     ------------------------------------- 896.1/896.1 kB 14.3 MB/s eta 0:00:00\n",
      "Collecting typing-extensions>=3.6.6\n",
      "  Using cached typing_extensions-4.5.0-py3-none-any.whl (27 kB)\n",
      "Collecting termcolor>=1.1.0\n",
      "  Using cached termcolor-2.2.0-py3-none-any.whl (6.6 kB)\n",
      "Requirement already satisfied: colorama in c:\\users\\deviv\\anaconda3\\envs\\mordecai_env_3.8\\lib\\site-packages (from tqdm>=4.28.1->mordecai) (0.4.6)\n",
      "Requirement already satisfied: charset-normalizer<4,>=2 in c:\\users\\deviv\\anaconda3\\envs\\mordecai_env_3.8\\lib\\site-packages (from requests<3.0.0,>=2.13.0->spacy<3.0,>=2.3->mordecai) (3.1.0)\n",
      "Requirement already satisfied: idna<4,>=2.5 in c:\\users\\deviv\\anaconda3\\envs\\mordecai_env_3.8\\lib\\site-packages (from requests<3.0.0,>=2.13.0->spacy<3.0,>=2.3->mordecai) (3.4)\n",
      "Requirement already satisfied: certifi>=2017.4.17 in c:\\users\\deviv\\anaconda3\\envs\\mordecai_env_3.8\\lib\\site-packages (from requests<3.0.0,>=2.13.0->spacy<3.0,>=2.3->mordecai) (2022.12.7)\n",
      "Requirement already satisfied: wheel<1.0,>=0.23.0 in c:\\users\\deviv\\anaconda3\\envs\\mordecai_env_3.8\\lib\\site-packages (from astunparse>=1.6.0->tensorflow-intel==2.11.0->tensorflow>=2.2.0->mordecai) (0.38.4)\n",
      "Collecting google-auth-oauthlib<0.5,>=0.4.1\n",
      "  Using cached google_auth_oauthlib-0.4.6-py2.py3-none-any.whl (18 kB)\n",
      "Collecting tensorboard-plugin-wit>=1.6.0\n",
      "  Using cached tensorboard_plugin_wit-1.8.1-py3-none-any.whl (781 kB)\n",
      "Collecting markdown>=2.6.8\n",
      "  Using cached Markdown-3.4.1-py3-none-any.whl (93 kB)\n",
      "Collecting tensorboard-data-server<0.7.0,>=0.6.0\n",
      "  Using cached tensorboard_data_server-0.6.1-py3-none-any.whl (2.4 kB)\n",
      "Collecting google-auth<3,>=1.6.3\n",
      "  Downloading google_auth-2.16.2-py2.py3-none-any.whl (177 kB)\n",
      "     ---------------------------------------- 177.2/177.2 kB ? eta 0:00:00\n",
      "Collecting werkzeug>=1.0.1\n",
      "  Using cached Werkzeug-2.2.3-py3-none-any.whl (233 kB)\n",
      "Collecting cachetools<6.0,>=2.0.0\n",
      "  Using cached cachetools-5.3.0-py3-none-any.whl (9.3 kB)\n",
      "Collecting pyasn1-modules>=0.2.1\n",
      "  Using cached pyasn1_modules-0.2.8-py2.py3-none-any.whl (155 kB)\n",
      "Collecting rsa<5,>=3.1.4\n",
      "  Using cached rsa-4.9-py3-none-any.whl (34 kB)\n",
      "Collecting requests-oauthlib>=0.7.0\n",
      "  Using cached requests_oauthlib-1.3.1-py2.py3-none-any.whl (23 kB)\n",
      "Collecting importlib-metadata>=4.4\n",
      "  Using cached importlib_metadata-6.0.0-py3-none-any.whl (21 kB)\n",
      "Collecting MarkupSafe>=2.1.1\n",
      "  Downloading MarkupSafe-2.1.2-cp38-cp38-win_amd64.whl (16 kB)\n",
      "Collecting zipp>=0.5\n",
      "  Using cached zipp-3.15.0-py3-none-any.whl (6.8 kB)\n",
      "Collecting pyasn1<0.5.0,>=0.4.6\n",
      "  Using cached pyasn1-0.4.8-py2.py3-none-any.whl (77 kB)\n",
      "Collecting oauthlib>=3.0.0\n",
      "  Using cached oauthlib-3.2.2-py3-none-any.whl (151 kB)\n",
      "Building wheels for collected packages: mordecai\n",
      "  Building wheel for mordecai (setup.py): started\n",
      "  Building wheel for mordecai (setup.py): finished with status 'done'\n",
      "  Created wheel for mordecai: filename=mordecai-2.1.0-py3-none-any.whl size=18829217 sha256=775b11a1f63733799615c9db4d5e980eb781d4ef073995e52091bafe91068c6f\n",
      "  Stored in directory: c:\\users\\deviv\\appdata\\local\\pip\\cache\\wheels\\f5\\5d\\10\\61a5e506055a0350ee2ed4e919258276fa3978bf277e8bf20c\n",
      "Successfully built mordecai\n",
      "Installing collected packages: tensorboard-plugin-wit, pytz, pyasn1, libclang, flatbuffers, zipp, wrapt, typing-extensions, termcolor, tensorflow-io-gcs-filesystem, tensorflow-estimator, tensorboard-data-server, six, rsa, pyasn1-modules, protobuf, packaging, opt-einsum, oauthlib, MarkupSafe, keras, grpcio, gast, elasticsearch, editdistance, cachetools, absl-py, werkzeug, requests-oauthlib, python-dateutil, importlib-metadata, google-pasta, google-auth, astunparse, pandas, markdown, google-auth-oauthlib, elasticsearch-dsl, tensorboard, tensorflow-intel, tensorflow, mordecai\n",
      "Successfully installed MarkupSafe-2.1.2 absl-py-1.4.0 astunparse-1.6.3 cachetools-5.3.0 editdistance-0.6.2 elasticsearch-5.4.0 elasticsearch-dsl-5.3.0 flatbuffers-23.3.3 gast-0.4.0 google-auth-2.16.2 google-auth-oauthlib-0.4.6 google-pasta-0.2.0 grpcio-1.51.3 importlib-metadata-6.0.0 keras-2.11.0 libclang-15.0.6.1 markdown-3.4.1 mordecai-2.1.0 oauthlib-3.2.2 opt-einsum-3.3.0 packaging-23.0 pandas-1.5.3 protobuf-3.19.6 pyasn1-0.4.8 pyasn1-modules-0.2.8 python-dateutil-2.8.2 pytz-2022.7.1 requests-oauthlib-1.3.1 rsa-4.9 six-1.16.0 tensorboard-2.11.2 tensorboard-data-server-0.6.1 tensorboard-plugin-wit-1.8.1 tensorflow-2.11.0 tensorflow-estimator-2.11.0 tensorflow-intel-2.11.0 tensorflow-io-gcs-filesystem-0.31.0 termcolor-2.2.0 typing-extensions-4.5.0 werkzeug-2.2.3 wrapt-1.15.0 zipp-3.15.0\n",
      "Requirement already satisfied: spacy==2.3 in c:\\users\\deviv\\anaconda3\\envs\\mordecai_env_3.8\\lib\\site-packages (2.3.0)\n",
      "Requirement already satisfied: requests<3.0.0,>=2.13.0 in c:\\users\\deviv\\anaconda3\\envs\\mordecai_env_3.8\\lib\\site-packages (from spacy==2.3) (2.28.2)\n",
      "Requirement already satisfied: murmurhash<1.1.0,>=0.28.0 in c:\\users\\deviv\\anaconda3\\envs\\mordecai_env_3.8\\lib\\site-packages (from spacy==2.3) (1.0.9)\n",
      "Requirement already satisfied: wasabi<1.1.0,>=0.4.0 in c:\\users\\deviv\\anaconda3\\envs\\mordecai_env_3.8\\lib\\site-packages (from spacy==2.3) (0.10.1)\n",
      "Requirement already satisfied: catalogue<1.1.0,>=0.0.7 in c:\\users\\deviv\\anaconda3\\envs\\mordecai_env_3.8\\lib\\site-packages (from spacy==2.3) (1.0.2)\n",
      "Requirement already satisfied: tqdm<5.0.0,>=4.38.0 in c:\\users\\deviv\\anaconda3\\envs\\mordecai_env_3.8\\lib\\site-packages (from spacy==2.3) (4.65.0)\n",
      "Requirement already satisfied: numpy>=1.15.0 in c:\\users\\deviv\\anaconda3\\envs\\mordecai_env_3.8\\lib\\site-packages (from spacy==2.3) (1.21.0)\n",
      "Requirement already satisfied: preshed<3.1.0,>=3.0.2 in c:\\users\\deviv\\anaconda3\\envs\\mordecai_env_3.8\\lib\\site-packages (from spacy==2.3) (3.0.8)\n",
      "Requirement already satisfied: srsly<1.1.0,>=1.0.2 in c:\\users\\deviv\\anaconda3\\envs\\mordecai_env_3.8\\lib\\site-packages (from spacy==2.3) (1.0.6)\n",
      "Requirement already satisfied: blis<0.5.0,>=0.4.0 in c:\\users\\deviv\\anaconda3\\envs\\mordecai_env_3.8\\lib\\site-packages (from spacy==2.3) (0.4.1)\n",
      "Requirement already satisfied: setuptools in c:\\users\\deviv\\anaconda3\\envs\\mordecai_env_3.8\\lib\\site-packages (from spacy==2.3) (67.5.1)\n",
      "Requirement already satisfied: thinc==7.4.1 in c:\\users\\deviv\\anaconda3\\envs\\mordecai_env_3.8\\lib\\site-packages (from spacy==2.3) (7.4.1)\n",
      "Requirement already satisfied: plac<1.2.0,>=0.9.6 in c:\\users\\deviv\\anaconda3\\envs\\mordecai_env_3.8\\lib\\site-packages (from spacy==2.3) (1.1.3)\n",
      "Requirement already satisfied: cymem<2.1.0,>=2.0.2 in c:\\users\\deviv\\anaconda3\\envs\\mordecai_env_3.8\\lib\\site-packages (from spacy==2.3) (2.0.7)\n",
      "Requirement already satisfied: idna<4,>=2.5 in c:\\users\\deviv\\anaconda3\\envs\\mordecai_env_3.8\\lib\\site-packages (from requests<3.0.0,>=2.13.0->spacy==2.3) (3.4)\n",
      "Requirement already satisfied: certifi>=2017.4.17 in c:\\users\\deviv\\anaconda3\\envs\\mordecai_env_3.8\\lib\\site-packages (from requests<3.0.0,>=2.13.0->spacy==2.3) (2022.12.7)\n",
      "Requirement already satisfied: charset-normalizer<4,>=2 in c:\\users\\deviv\\anaconda3\\envs\\mordecai_env_3.8\\lib\\site-packages (from requests<3.0.0,>=2.13.0->spacy==2.3) (3.1.0)\n",
      "Requirement already satisfied: urllib3<1.27,>=1.21.1 in c:\\users\\deviv\\anaconda3\\envs\\mordecai_env_3.8\\lib\\site-packages (from requests<3.0.0,>=2.13.0->spacy==2.3) (1.26.15)\n",
      "Requirement already satisfied: colorama in c:\\users\\deviv\\anaconda3\\envs\\mordecai_env_3.8\\lib\\site-packages (from tqdm<5.0.0,>=4.38.0->spacy==2.3) (0.4.6)\n",
      "Requirement already satisfied: numpy==1.21 in c:\\users\\deviv\\anaconda3\\envs\\mordecai_env_3.8\\lib\\site-packages (1.21.0)\n",
      "Requirement already satisfied: h5py==3.8.0 in c:\\users\\deviv\\anaconda3\\envs\\mordecai_env_3.8\\lib\\site-packages (3.8.0)\n",
      "Requirement already satisfied: numpy>=1.14.5 in c:\\users\\deviv\\anaconda3\\envs\\mordecai_env_3.8\\lib\\site-packages (from h5py==3.8.0) (1.21.0)\n"
     ]
    }
   ],
   "source": [
    "!pip install mordecai # !pip install mordecai-2.1.0.tar.gz\n",
    "!pip install spacy==2.3\n",
    "!pip install numpy==1.21\n",
    "!pip install h5py==3.8.0"
   ]
  },
  {
   "cell_type": "code",
   "execution_count": 1,
   "metadata": {},
   "outputs": [
    {
     "name": "stdout",
     "output_type": "stream",
     "text": [
      "Package                      Version\n",
      "---------------------------- ---------\n",
      "absl-py                      1.4.0\n",
      "astunparse                   1.6.3\n",
      "blis                         0.4.1\n",
      "cachetools                   5.3.0\n",
      "catalogue                    1.0.2\n",
      "certifi                      2022.12.7\n",
      "charset-normalizer           3.1.0\n",
      "colorama                     0.4.6\n",
      "cymem                        2.0.7\n",
      "editdistance                 0.6.2\n",
      "elasticsearch                5.4.0\n",
      "elasticsearch-dsl            5.3.0\n",
      "flatbuffers                  23.3.3\n",
      "gast                         0.4.0\n",
      "google-auth                  2.16.2\n",
      "google-auth-oauthlib         0.4.6\n",
      "google-pasta                 0.2.0\n",
      "grpcio                       1.51.3\n",
      "h5py                         3.8.0\n",
      "idna                         3.4\n",
      "importlib-metadata           6.0.0\n",
      "keras                        2.11.0\n",
      "libclang                     15.0.6.1\n",
      "Markdown                     3.4.1\n",
      "MarkupSafe                   2.1.2\n",
      "mordecai                     2.1.0\n",
      "murmurhash                   1.0.9\n",
      "numpy                        1.21.0\n",
      "oauthlib                     3.2.2\n",
      "opt-einsum                   3.3.0\n",
      "packaging                    23.0\n",
      "pandas                       1.5.3\n",
      "pip                          23.0.1\n",
      "plac                         1.1.3\n",
      "preshed                      3.0.8\n",
      "protobuf                     3.19.6\n",
      "pyasn1                       0.4.8\n",
      "pyasn1-modules               0.2.8\n",
      "python-dateutil              2.8.2\n",
      "pytz                         2022.7.1\n",
      "requests                     2.28.2\n",
      "requests-oauthlib            1.3.1\n",
      "rsa                          4.9\n",
      "setuptools                   67.5.1\n",
      "six                          1.16.0\n",
      "spacy                        2.3.0\n",
      "srsly                        1.0.6\n",
      "tensorboard                  2.11.2\n",
      "tensorboard-data-server      0.6.1\n",
      "tensorboard-plugin-wit       1.8.1\n",
      "tensorflow                   2.11.0\n",
      "tensorflow-estimator         2.11.0\n",
      "tensorflow-intel             2.11.0\n",
      "tensorflow-io-gcs-filesystem 0.31.0\n",
      "termcolor                    2.2.0\n",
      "thinc                        7.4.1\n",
      "tqdm                         4.65.0\n",
      "typing_extensions            4.5.0\n",
      "urllib3                      1.26.15\n",
      "wasabi                       0.10.1\n",
      "Werkzeug                     2.2.3\n",
      "wheel                        0.38.4\n",
      "wrapt                        1.15.0\n",
      "zipp                         3.15.0\n"
     ]
    }
   ],
   "source": [
    "!pip list"
   ]
  },
  {
   "cell_type": "code",
   "execution_count": 4,
   "metadata": {},
   "outputs": [
    {
     "name": "stdout",
     "output_type": "stream",
     "text": [
      "^C\n"
     ]
    }
   ],
   "source": [
    "!python -m spacy download en_core_web_lg"
   ]
  },
  {
   "cell_type": "markdown",
   "metadata": {},
   "source": [
    "If the above doesn't work, can try the code below to use the installation method from the Google Collab document"
   ]
  },
  {
   "cell_type": "code",
   "execution_count": 4,
   "metadata": {},
   "outputs": [
    {
     "name": "stderr",
     "output_type": "stream",
     "text": [
      "ERROR: mordecai 2.1.0 has requirement spacy<3.0,>=2.3, but you'll have spacy 3.4.0 which is incompatible.\n",
      "ERROR: en-core-web-lg 2.3.1 has requirement spacy<2.4.0,>=2.3.0, but you'll have spacy 3.4.0 which is incompatible.\n",
      "ERROR: spacy 3.4.0 has requirement srsly<3.0.0,>=2.4.3, but you'll have srsly 2.4.0 which is incompatible.\n",
      "ERROR: mordecai 2.1.0 has requirement spacy<3.0,>=2.3, but you'll have spacy 3.4.0 which is incompatible.\n",
      "ERROR: en-core-web-lg 2.3.1 has requirement spacy<2.4.0,>=2.3.0, but you'll have spacy 3.4.0 which is incompatible.\n",
      "Traceback (most recent call last):\n",
      "  File \"C:\\Users\\dveytia\\Anaconda3\\lib\\runpy.py\", line 185, in _run_module_as_main\n",
      "    mod_name, mod_spec, code = _get_module_details(mod_name, _Error)\n",
      "  File \"C:\\Users\\dveytia\\Anaconda3\\lib\\runpy.py\", line 144, in _get_module_details\n",
      "    return _get_module_details(pkg_main_name, error)\n",
      "  File \"C:\\Users\\dveytia\\Anaconda3\\lib\\runpy.py\", line 111, in _get_module_details\n",
      "    __import__(pkg_name)\n",
      "  File \"C:\\Users\\dveytia\\Anaconda3\\lib\\site-packages\\spacy\\__init__.py\", line 6, in <module>\n",
      "    from .errors import setup_default_warnings\n",
      "  File \"C:\\Users\\dveytia\\Anaconda3\\lib\\site-packages\\spacy\\errors.py\", line 2, in <module>\n",
      "    from .compat import Literal\n",
      "  File \"C:\\Users\\dveytia\\Anaconda3\\lib\\site-packages\\spacy\\compat.py\", line 3, in <module>\n",
      "    from thinc.util import copy_array\n",
      "  File \"C:\\Users\\dveytia\\Anaconda3\\lib\\site-packages\\thinc\\__init__.py\", line 5, in <module>\n",
      "    from .config import registry\n",
      "  File \"C:\\Users\\dveytia\\Anaconda3\\lib\\site-packages\\thinc\\config.py\", line 4, in <module>\n",
      "    from .types import Decorator\n",
      "  File \"C:\\Users\\dveytia\\Anaconda3\\lib\\site-packages\\thinc\\types.py\", line 8, in <module>\n",
      "    from .compat import has_cupy, cupy\n",
      "  File \"C:\\Users\\dveytia\\Anaconda3\\lib\\site-packages\\thinc\\compat.py\", line 56, in <module>\n",
      "    import tensorflow.experimental.dlpack\n",
      "  File \"C:\\Users\\dveytia\\Anaconda3\\lib\\site-packages\\tensorflow\\__init__.py\", line 37, in <module>\n",
      "    from tensorflow.python.tools import module_util as _module_util\n",
      "  File \"C:\\Users\\dveytia\\Anaconda3\\lib\\site-packages\\tensorflow\\python\\__init__.py\", line 45, in <module>\n",
      "    from tensorflow.python.feature_column import feature_column_lib as feature_column\n",
      "  File \"C:\\Users\\dveytia\\Anaconda3\\lib\\site-packages\\tensorflow\\python\\feature_column\\feature_column_lib.py\", line 18, in <module>\n",
      "    from tensorflow.python.feature_column.feature_column import *\n",
      "  File \"C:\\Users\\dveytia\\Anaconda3\\lib\\site-packages\\tensorflow\\python\\feature_column\\feature_column.py\", line 143, in <module>\n",
      "    from tensorflow.python.layers import base\n",
      "  File \"C:\\Users\\dveytia\\Anaconda3\\lib\\site-packages\\tensorflow\\python\\layers\\base.py\", line 16, in <module>\n",
      "    from tensorflow.python.keras.legacy_tf_layers import base\n",
      "  File \"C:\\Users\\dveytia\\Anaconda3\\lib\\site-packages\\tensorflow\\python\\keras\\__init__.py\", line 25, in <module>\n",
      "    from tensorflow.python.keras import models\n",
      "  File \"C:\\Users\\dveytia\\Anaconda3\\lib\\site-packages\\tensorflow\\python\\keras\\models.py\", line 22, in <module>\n",
      "    from tensorflow.python.keras.engine import functional\n",
      "  File \"C:\\Users\\dveytia\\Anaconda3\\lib\\site-packages\\tensorflow\\python\\keras\\engine\\functional.py\", line 32, in <module>\n",
      "    from tensorflow.python.keras.engine import training as training_lib\n",
      "  File \"C:\\Users\\dveytia\\Anaconda3\\lib\\site-packages\\tensorflow\\python\\keras\\engine\\training.py\", line 54, in <module>\n",
      "    from tensorflow.python.keras.saving import hdf5_format\n",
      "  File \"C:\\Users\\dveytia\\Anaconda3\\lib\\site-packages\\tensorflow\\python\\keras\\saving\\hdf5_format.py\", line 37, in <module>\n",
      "    import h5py\n",
      "  File \"C:\\Users\\dveytia\\Anaconda3\\lib\\site-packages\\h5py\\__init__.py\", line 46, in <module>\n",
      "    from ._conv import register_converters as _register_converters\n",
      "  File \"h5py\\h5t.pxd\", line 14, in init h5py._conv\n",
      "  File \"h5py\\h5t.pyx\", line 293, in init h5py.h5t\n",
      "  File \"C:\\Users\\dveytia\\Anaconda3\\lib\\site-packages\\numpy\\__init__.py\", line 320, in __getattr__\n",
      "    raise AttributeError(\"module {!r} has no attribute \"\n",
      "AttributeError: module 'numpy' has no attribute 'typeDict'\n"
     ]
    }
   ],
   "source": [
    "!pip install -q https://github.com/ac74475/mordecai/archive/refs/heads/performance-improvement.zip\n",
    "!pip install -q spacy==3.4.0\n",
    "!pip install -q srsly==2.4.0\n",
    "!python -m spacy download en_core_web_lg"
   ]
  },
  {
   "cell_type": "code",
   "execution_count": null,
   "metadata": {},
   "outputs": [],
   "source": [
    "!docker pull elasticsearch:5.5.2"
   ]
  },
  {
   "cell_type": "code",
   "execution_count": null,
   "metadata": {},
   "outputs": [],
   "source": [
    "!wget https://andrewhalterman.com/files/geonames_index.tar.gz --output-file=wget_log.txt\n",
    "!tar -xzf geonames_index.tar.gz"
   ]
  },
  {
   "cell_type": "markdown",
   "metadata": {},
   "source": [
    "Note that I have to disable my antivirus software otherwise geonames_index is read only. Do this by: Windows Security > Virus & Threat protection settings > toggle off Real-time protection."
   ]
  },
  {
   "cell_type": "code",
   "execution_count": 5,
   "metadata": {},
   "outputs": [
    {
     "name": "stderr",
     "output_type": "stream",
     "text": [
      "docker: Error response from daemon: mkdir C:\\Users\\dveytia: Access is denied.\n",
      "See 'docker run --help'.\n"
     ]
    }
   ],
   "source": [
    "!docker run -d -p 127.0.0.1:9200:9200 -v C:/Users/dveytia/Python-working-folder/test-mordecai/geonames_index/:/usr/share/elasticsearch/data elasticsearch:5.5.2\n",
    "#!docker run -d -p 127.0.0.1:9200:9200 elasticsearch:5.5.2"
   ]
  },
  {
   "cell_type": "code",
   "execution_count": 1,
   "metadata": {},
   "outputs": [],
   "source": [
    "from mordecai import Geoparser"
   ]
  },
  {
   "cell_type": "code",
   "execution_count": 2,
   "metadata": {},
   "outputs": [
    {
     "name": "stdout",
     "output_type": "stream",
     "text": [
      "Models path: C:\\Users\\deviv\\anaconda3\\envs\\mordecai_env_3.8\\lib\\site-packages\\mordecai\\models\\\n"
     ]
    }
   ],
   "source": [
    "geo = Geoparser()"
   ]
  },
  {
   "cell_type": "code",
   "execution_count": 3,
   "metadata": {},
   "outputs": [
    {
     "name": "stdout",
     "output_type": "stream",
     "text": [
      "1/1 [==============================] - 0s 99ms/step\n",
      "1/1 [==============================] - 0s 15ms/step\n",
      "1/1 [==============================] - 0s 15ms/step\n",
      "1/1 [==============================] - 0s 41ms/step\n",
      "1/1 [==============================] - 0s 15ms/step\n"
     ]
    },
    {
     "data": {
      "text/plain": [
       "[{'word': 'Oxford',\n",
       "  'spans': [{'start': 16, 'end': 22}],\n",
       "  'country_predicted': 'GBR',\n",
       "  'country_conf': 0.95718795,\n",
       "  'geo': {'admin1': 'England',\n",
       "   'lat': '51.75222',\n",
       "   'lon': '-1.25596',\n",
       "   'country_code3': 'GBR',\n",
       "   'geonameid': '2640729',\n",
       "   'place_name': 'Oxford',\n",
       "   'feature_class': 'P',\n",
       "   'feature_code': 'PPLA2'}},\n",
       " {'word': 'Ottawa',\n",
       "  'spans': [{'start': 26, 'end': 32}],\n",
       "  'country_predicted': 'CAN',\n",
       "  'country_conf': 0.87992215,\n",
       "  'geo': {'admin1': 'Ontario',\n",
       "   'lat': '45.41117',\n",
       "   'lon': '-75.69812',\n",
       "   'country_code3': 'CAN',\n",
       "   'geonameid': '6094817',\n",
       "   'place_name': 'Ottawa',\n",
       "   'feature_class': 'P',\n",
       "   'feature_code': 'PPLC'}}]"
      ]
     },
     "execution_count": 3,
     "metadata": {},
     "output_type": "execute_result"
    }
   ],
   "source": [
    "geo.geoparse(\"I traveled from Oxford to Ottawa.\")"
   ]
  }
 ],
 "metadata": {
  "kernelspec": {
   "display_name": "envname",
   "language": "python",
   "name": "envname"
  },
  "language_info": {
   "codemirror_mode": {
    "name": "ipython",
    "version": 3
   },
   "file_extension": ".py",
   "mimetype": "text/x-python",
   "name": "python",
   "nbconvert_exporter": "python",
   "pygments_lexer": "ipython3",
   "version": "3.8.16"
  }
 },
 "nbformat": 4,
 "nbformat_minor": 4
}
