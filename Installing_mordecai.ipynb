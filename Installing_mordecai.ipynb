{
 "cells": [
  {
   "cell_type": "code",
   "execution_count": 2,
   "metadata": {},
   "outputs": [],
   "source": [
    "#!python -m venv mordecai-env\n",
    "#!mordecai-env\\Scripts\\activate"
   ]
  },
  {
   "cell_type": "code",
   "execution_count": 1,
   "metadata": {},
   "outputs": [
    {
     "name": "stdout",
     "output_type": "stream",
     "text": [
      "Python 3.8.16\n"
     ]
    }
   ],
   "source": [
    "!python --version "
   ]
  },
  {
   "cell_type": "markdown",
   "metadata": {},
   "source": [
    "# Install packages"
   ]
  },
  {
   "cell_type": "markdown",
   "metadata": {},
   "source": [
    "First try to install mordecai the \"normal\" way using the version in PyPi."
   ]
  },
  {
   "cell_type": "code",
   "execution_count": 9,
   "metadata": {},
   "outputs": [
    {
     "name": "stdout",
     "output_type": "stream",
     "text": [
      "Requirement already satisfied: mordecai in /home/dveytia/.local/lib/python3.8/site-packages (2.1.0)\n",
      "Requirement already satisfied: elasticsearch-dsl==5.3.0 in /home/dveytia/.local/lib/python3.8/site-packages (from mordecai) (5.3.0)\n",
      "Requirement already satisfied: tensorflow>=2.2.0 in /home/dveytia/.local/lib/python3.8/site-packages (from mordecai) (2.11.0)\n",
      "Requirement already satisfied: h5py>=2.10.0 in /home/dveytia/.local/lib/python3.8/site-packages (from mordecai) (3.8.0)\n",
      "Requirement already satisfied: editdistance>=0.5.3 in /home/dveytia/.local/lib/python3.8/site-packages (from mordecai) (0.6.2)\n",
      "Requirement already satisfied: numpy>=1.12 in /home/dveytia/.local/lib/python3.8/site-packages (from mordecai) (1.21.0)\n",
      "Requirement already satisfied: tqdm>=4.28.1 in /home/dveytia/.local/lib/python3.8/site-packages (from mordecai) (4.65.0)\n",
      "Requirement already satisfied: spacy<3.0,>=2.3 in /home/dveytia/.local/lib/python3.8/site-packages (from mordecai) (2.3.0)\n",
      "Requirement already satisfied: elasticsearch==5.4.0 in /home/dveytia/.local/lib/python3.8/site-packages (from mordecai) (5.4.0)\n",
      "Requirement already satisfied: pandas>=0.24.2 in /home/dveytia/.local/lib/python3.8/site-packages (from mordecai) (1.5.3)\n",
      "Requirement already satisfied: six in /usr/lib/python3/dist-packages (from elasticsearch-dsl==5.3.0->mordecai) (1.14.0)\n",
      "Requirement already satisfied: python-dateutil in /usr/local/lib/python3.8/dist-packages (from elasticsearch-dsl==5.3.0->mordecai) (2.8.2)\n",
      "Requirement already satisfied: protobuf<3.20,>=3.9.2 in /home/dveytia/.local/lib/python3.8/site-packages (from tensorflow>=2.2.0->mordecai) (3.19.6)\n",
      "Requirement already satisfied: packaging in /usr/lib/python3/dist-packages (from tensorflow>=2.2.0->mordecai) (20.3)\n",
      "Requirement already satisfied: typing-extensions>=3.6.6 in /home/dveytia/.local/lib/python3.8/site-packages (from tensorflow>=2.2.0->mordecai) (4.5.0)\n",
      "Requirement already satisfied: grpcio<2.0,>=1.24.3 in /home/dveytia/.local/lib/python3.8/site-packages (from tensorflow>=2.2.0->mordecai) (1.51.3)\n",
      "Requirement already satisfied: absl-py>=1.0.0 in /home/dveytia/.local/lib/python3.8/site-packages (from tensorflow>=2.2.0->mordecai) (1.4.0)\n",
      "Requirement already satisfied: termcolor>=1.1.0 in /home/dveytia/.local/lib/python3.8/site-packages (from tensorflow>=2.2.0->mordecai) (2.2.0)\n",
      "Requirement already satisfied: setuptools in /usr/lib/python3/dist-packages (from tensorflow>=2.2.0->mordecai) (45.2.0)\n",
      "Requirement already satisfied: keras<2.12,>=2.11.0 in /home/dveytia/.local/lib/python3.8/site-packages (from tensorflow>=2.2.0->mordecai) (2.11.0)\n",
      "Requirement already satisfied: astunparse>=1.6.0 in /home/dveytia/.local/lib/python3.8/site-packages (from tensorflow>=2.2.0->mordecai) (1.6.3)\n",
      "Requirement already satisfied: tensorflow-estimator<2.12,>=2.11.0 in /home/dveytia/.local/lib/python3.8/site-packages (from tensorflow>=2.2.0->mordecai) (2.11.0)\n",
      "Requirement already satisfied: opt-einsum>=2.3.2 in /home/dveytia/.local/lib/python3.8/site-packages (from tensorflow>=2.2.0->mordecai) (3.3.0)\n",
      "Requirement already satisfied: flatbuffers>=2.0 in /home/dveytia/.local/lib/python3.8/site-packages (from tensorflow>=2.2.0->mordecai) (23.3.3)\n",
      "Requirement already satisfied: tensorflow-io-gcs-filesystem>=0.23.1; platform_machine != \"arm64\" or platform_system != \"Darwin\" in /home/dveytia/.local/lib/python3.8/site-packages (from tensorflow>=2.2.0->mordecai) (0.31.0)\n",
      "Requirement already satisfied: wrapt>=1.11.0 in /home/dveytia/.local/lib/python3.8/site-packages (from tensorflow>=2.2.0->mordecai) (1.15.0)\n",
      "Requirement already satisfied: libclang>=13.0.0 in /home/dveytia/.local/lib/python3.8/site-packages (from tensorflow>=2.2.0->mordecai) (15.0.6.1)\n",
      "Requirement already satisfied: tensorboard<2.12,>=2.11 in /home/dveytia/.local/lib/python3.8/site-packages (from tensorflow>=2.2.0->mordecai) (2.11.2)\n",
      "Requirement already satisfied: gast<=0.4.0,>=0.2.1 in /home/dveytia/.local/lib/python3.8/site-packages (from tensorflow>=2.2.0->mordecai) (0.4.0)\n",
      "Requirement already satisfied: google-pasta>=0.1.1 in /home/dveytia/.local/lib/python3.8/site-packages (from tensorflow>=2.2.0->mordecai) (0.2.0)\n",
      "Requirement already satisfied: plac<1.2.0,>=0.9.6 in /home/dveytia/.local/lib/python3.8/site-packages (from spacy<3.0,>=2.3->mordecai) (1.1.3)\n",
      "Requirement already satisfied: wasabi<1.1.0,>=0.4.0 in /home/dveytia/.local/lib/python3.8/site-packages (from spacy<3.0,>=2.3->mordecai) (0.10.1)\n",
      "Requirement already satisfied: requests<3.0.0,>=2.13.0 in /usr/lib/python3/dist-packages (from spacy<3.0,>=2.3->mordecai) (2.22.0)\n",
      "Requirement already satisfied: srsly<1.1.0,>=1.0.2 in /home/dveytia/.local/lib/python3.8/site-packages (from spacy<3.0,>=2.3->mordecai) (1.0.6)\n",
      "Requirement already satisfied: cymem<2.1.0,>=2.0.2 in /home/dveytia/.local/lib/python3.8/site-packages (from spacy<3.0,>=2.3->mordecai) (2.0.7)\n",
      "Requirement already satisfied: thinc==7.4.1 in /home/dveytia/.local/lib/python3.8/site-packages (from spacy<3.0,>=2.3->mordecai) (7.4.1)\n",
      "Requirement already satisfied: blis<0.5.0,>=0.4.0 in /home/dveytia/.local/lib/python3.8/site-packages (from spacy<3.0,>=2.3->mordecai) (0.4.1)\n",
      "Requirement already satisfied: murmurhash<1.1.0,>=0.28.0 in /home/dveytia/.local/lib/python3.8/site-packages (from spacy<3.0,>=2.3->mordecai) (1.0.9)\n",
      "Requirement already satisfied: catalogue<1.1.0,>=0.0.7 in /home/dveytia/.local/lib/python3.8/site-packages (from spacy<3.0,>=2.3->mordecai) (1.0.2)\n",
      "Requirement already satisfied: preshed<3.1.0,>=3.0.2 in /home/dveytia/.local/lib/python3.8/site-packages (from spacy<3.0,>=2.3->mordecai) (3.0.8)\n",
      "Requirement already satisfied: urllib3<2.0,>=1.8 in /usr/lib/python3/dist-packages (from elasticsearch==5.4.0->mordecai) (1.25.8)\n",
      "Requirement already satisfied: pytz>=2020.1 in /home/dveytia/.local/lib/python3.8/site-packages (from pandas>=0.24.2->mordecai) (2022.7.1)\n",
      "Requirement already satisfied: wheel<1.0,>=0.23.0 in /usr/lib/python3/dist-packages (from astunparse>=1.6.0->tensorflow>=2.2.0->mordecai) (0.34.2)\n",
      "Requirement already satisfied: google-auth-oauthlib<0.5,>=0.4.1 in /home/dveytia/.local/lib/python3.8/site-packages (from tensorboard<2.12,>=2.11->tensorflow>=2.2.0->mordecai) (0.4.6)\n",
      "Requirement already satisfied: google-auth<3,>=1.6.3 in /home/dveytia/.local/lib/python3.8/site-packages (from tensorboard<2.12,>=2.11->tensorflow>=2.2.0->mordecai) (2.16.2)\n",
      "Requirement already satisfied: werkzeug>=1.0.1 in /home/dveytia/.local/lib/python3.8/site-packages (from tensorboard<2.12,>=2.11->tensorflow>=2.2.0->mordecai) (2.2.3)\n",
      "Requirement already satisfied: tensorboard-plugin-wit>=1.6.0 in /home/dveytia/.local/lib/python3.8/site-packages (from tensorboard<2.12,>=2.11->tensorflow>=2.2.0->mordecai) (1.8.1)\n",
      "Requirement already satisfied: tensorboard-data-server<0.7.0,>=0.6.0 in /home/dveytia/.local/lib/python3.8/site-packages (from tensorboard<2.12,>=2.11->tensorflow>=2.2.0->mordecai) (0.6.1)\n",
      "Requirement already satisfied: markdown>=2.6.8 in /home/dveytia/.local/lib/python3.8/site-packages (from tensorboard<2.12,>=2.11->tensorflow>=2.2.0->mordecai) (3.4.1)\n",
      "Requirement already satisfied: requests-oauthlib>=0.7.0 in /home/dveytia/.local/lib/python3.8/site-packages (from google-auth-oauthlib<0.5,>=0.4.1->tensorboard<2.12,>=2.11->tensorflow>=2.2.0->mordecai) (1.3.1)\n",
      "Requirement already satisfied: rsa<5,>=3.1.4; python_version >= \"3.6\" in /home/dveytia/.local/lib/python3.8/site-packages (from google-auth<3,>=1.6.3->tensorboard<2.12,>=2.11->tensorflow>=2.2.0->mordecai) (4.9)\n",
      "Requirement already satisfied: cachetools<6.0,>=2.0.0 in /home/dveytia/.local/lib/python3.8/site-packages (from google-auth<3,>=1.6.3->tensorboard<2.12,>=2.11->tensorflow>=2.2.0->mordecai) (5.3.0)\n",
      "Requirement already satisfied: pyasn1-modules>=0.2.1 in /usr/lib/python3/dist-packages (from google-auth<3,>=1.6.3->tensorboard<2.12,>=2.11->tensorflow>=2.2.0->mordecai) (0.2.1)\n",
      "Requirement already satisfied: MarkupSafe>=2.1.1 in /usr/local/lib/python3.8/dist-packages (from werkzeug>=1.0.1->tensorboard<2.12,>=2.11->tensorflow>=2.2.0->mordecai) (2.1.2)\n",
      "Requirement already satisfied: importlib-metadata>=4.4; python_version < \"3.10\" in /usr/local/lib/python3.8/dist-packages (from markdown>=2.6.8->tensorboard<2.12,>=2.11->tensorflow>=2.2.0->mordecai) (6.0.0)\n",
      "Requirement already satisfied: oauthlib>=3.0.0 in /usr/lib/python3/dist-packages (from requests-oauthlib>=0.7.0->google-auth-oauthlib<0.5,>=0.4.1->tensorboard<2.12,>=2.11->tensorflow>=2.2.0->mordecai) (3.1.0)\n",
      "Requirement already satisfied: pyasn1>=0.1.3 in /usr/lib/python3/dist-packages (from rsa<5,>=3.1.4; python_version >= \"3.6\"->google-auth<3,>=1.6.3->tensorboard<2.12,>=2.11->tensorflow>=2.2.0->mordecai) (0.4.2)\n",
      "Requirement already satisfied: zipp>=0.5 in /usr/lib/python3/dist-packages (from importlib-metadata>=4.4; python_version < \"3.10\"->markdown>=2.6.8->tensorboard<2.12,>=2.11->tensorflow>=2.2.0->mordecai) (1.0.0)\n",
      "Requirement already satisfied: spacy==2.3 in /home/dveytia/.local/lib/python3.8/site-packages (2.3.0)\n",
      "Requirement already satisfied: catalogue<1.1.0,>=0.0.7 in /home/dveytia/.local/lib/python3.8/site-packages (from spacy==2.3) (1.0.2)\n",
      "Requirement already satisfied: thinc==7.4.1 in /home/dveytia/.local/lib/python3.8/site-packages (from spacy==2.3) (7.4.1)\n",
      "Requirement already satisfied: cymem<2.1.0,>=2.0.2 in /home/dveytia/.local/lib/python3.8/site-packages (from spacy==2.3) (2.0.7)\n",
      "Requirement already satisfied: srsly<1.1.0,>=1.0.2 in /home/dveytia/.local/lib/python3.8/site-packages (from spacy==2.3) (1.0.6)\n",
      "Requirement already satisfied: murmurhash<1.1.0,>=0.28.0 in /home/dveytia/.local/lib/python3.8/site-packages (from spacy==2.3) (1.0.9)\n",
      "Requirement already satisfied: requests<3.0.0,>=2.13.0 in /usr/lib/python3/dist-packages (from spacy==2.3) (2.22.0)\n",
      "Requirement already satisfied: plac<1.2.0,>=0.9.6 in /home/dveytia/.local/lib/python3.8/site-packages (from spacy==2.3) (1.1.3)\n",
      "Requirement already satisfied: wasabi<1.1.0,>=0.4.0 in /home/dveytia/.local/lib/python3.8/site-packages (from spacy==2.3) (0.10.1)\n",
      "Requirement already satisfied: preshed<3.1.0,>=3.0.2 in /home/dveytia/.local/lib/python3.8/site-packages (from spacy==2.3) (3.0.8)\n",
      "Requirement already satisfied: numpy>=1.15.0 in /home/dveytia/.local/lib/python3.8/site-packages (from spacy==2.3) (1.21.0)\n",
      "Requirement already satisfied: setuptools in /usr/lib/python3/dist-packages (from spacy==2.3) (45.2.0)\n",
      "Requirement already satisfied: blis<0.5.0,>=0.4.0 in /home/dveytia/.local/lib/python3.8/site-packages (from spacy==2.3) (0.4.1)\n",
      "Requirement already satisfied: tqdm<5.0.0,>=4.38.0 in /home/dveytia/.local/lib/python3.8/site-packages (from spacy==2.3) (4.65.0)\n",
      "Requirement already satisfied: numpy==1.21 in /home/dveytia/.local/lib/python3.8/site-packages (1.21.0)\n",
      "Requirement already satisfied: h5py==3.8.0 in /home/dveytia/.local/lib/python3.8/site-packages (3.8.0)\n",
      "Requirement already satisfied: numpy>=1.14.5 in /home/dveytia/.local/lib/python3.8/site-packages (from h5py==3.8.0) (1.21.0)\n"
     ]
    }
   ],
   "source": [
    "!pip install mordecai # !pip install mordecai-2.1.0.tar.gz\n",
    "!pip install spacy==2.3\n",
    "!pip install numpy==1.21\n",
    "!pip install h5py==3.8.0"
   ]
  },
  {
   "cell_type": "code",
   "execution_count": 2,
   "metadata": {},
   "outputs": [
    {
     "name": "stdout",
     "output_type": "stream",
     "text": [
      "Package                      Version\n",
      "---------------------------- ---------\n",
      "absl-py                      1.4.0\n",
      "astunparse                   1.6.3\n",
      "blis                         0.4.1\n",
      "cachetools                   5.3.0\n",
      "catalogue                    1.0.2\n",
      "certifi                      2022.12.7\n",
      "cymem                        2.0.7\n",
      "editdistance                 0.6.2\n",
      "elasticsearch                5.4.0\n",
      "elasticsearch-dsl            5.3.0\n",
      "en-core-web-lg               2.3.0\n",
      "flatbuffers                  23.3.3\n",
      "gast                         0.4.0\n",
      "google-auth                  2.16.2\n",
      "google-auth-oauthlib         0.4.6\n",
      "google-pasta                 0.2.0\n",
      "grpcio                       1.51.3\n",
      "h5py                         3.8.0\n",
      "keras                        2.11.0\n",
      "libclang                     15.0.6.1\n",
      "Markdown                     3.4.1\n",
      "mordecai                     2.1.0\n",
      "murmurhash                   1.0.9\n",
      "numpy                        1.21.0\n",
      "opt-einsum                   3.3.0\n",
      "pandas                       1.5.3\n",
      "pip                          23.0.1\n",
      "plac                         1.1.3\n",
      "preshed                      3.0.8\n",
      "protobuf                     3.19.6\n",
      "pytz                         2022.7.1\n",
      "requests-oauthlib            1.3.1\n",
      "rsa                          4.9\n",
      "setuptools                   65.6.3\n",
      "spacy                        2.3.0\n",
      "srsly                        1.0.6\n",
      "tensorboard                  2.11.2\n",
      "tensorboard-data-server      0.6.1\n",
      "tensorboard-plugin-wit       1.8.1\n",
      "tensorflow                   2.11.0\n",
      "tensorflow-estimator         2.11.0\n",
      "tensorflow-io-gcs-filesystem 0.31.0\n",
      "termcolor                    2.2.0\n",
      "thinc                        7.4.1\n",
      "tqdm                         4.65.0\n",
      "typing_extensions            4.5.0\n",
      "wasabi                       0.10.1\n",
      "Werkzeug                     2.2.3\n",
      "wheel                        0.38.4\n",
      "wrapt                        1.15.0\n"
     ]
    }
   ],
   "source": [
    "!pip list"
   ]
  },
  {
   "cell_type": "markdown",
   "metadata": {},
   "source": [
    "# Download the en_core_web_lg model\n",
    "\n",
    "Several ways to run this depending on the system:"
   ]
  },
  {
   "cell_type": "code",
   "execution_count": 2,
   "metadata": {},
   "outputs": [
    {
     "name": "stdout",
     "output_type": "stream",
     "text": [
      "/opt/miniconda3/bin/python: No module named spacy\n"
     ]
    }
   ],
   "source": [
    "!python -m spacy download en_core_web_lg"
   ]
  },
  {
   "cell_type": "markdown",
   "metadata": {},
   "source": [
    "OR run chunk below:"
   ]
  },
  {
   "cell_type": "markdown",
   "metadata": {},
   "source": [
    "# Set up Docker and the Geonames index"
   ]
  },
  {
   "cell_type": "code",
   "execution_count": 4,
   "metadata": {},
   "outputs": [
    {
     "name": "stdout",
     "output_type": "stream",
     "text": [
      "5.5.2: Pulling from library/elasticsearch\n",
      "\n",
      "\u001b[1B2e45b4af: Pulling fs layer \n",
      "\u001b[1Bfbcfe407: Pulling fs layer \n",
      "\u001b[1Bdaaff53b: Pulling fs layer \n",
      "\u001b[1Bfe538f2f: Pulling fs layer \n",
      "\u001b[1B32737cd4: Pulling fs layer \n",
      "\u001b[1B8dddf546: Pulling fs layer \n",
      "\u001b[1Bf82bd83f: Pulling fs layer \n",
      "\u001b[3B8dddf546: Waiting fs layer \n",
      "\u001b[1B224fb73f: Pulling fs layer \n",
      "\u001b[1Bc95dec23: Pulling fs layer \n",
      "\u001b[8Bfe538f2f: Waiting fs layer \n",
      "\u001b[2Be4a86d71: Waiting fs layer \n",
      "\u001b[1Bd4b54ad0: Pulling fs layer \n",
      "\u001b[2Bd4b54ad0: Waiting fs layer \n",
      "\u001b[1BDigest: sha256:3686a5757ed46c9dbcf00f6f71fce48ffc5413b193a80d1c46a21e7aad4c53ad\u001b[2K\u001b[14A\u001b[2K\u001b[15A\u001b[2K\u001b[13A\u001b[2K\u001b[15A\u001b[2K\u001b[13A\u001b[2K\u001b[15A\u001b[2K\u001b[13A\u001b[2K\u001b[13A\u001b[2K\u001b[15A\u001b[2K\u001b[14A\u001b[2K\u001b[15A\u001b[2K\u001b[14A\u001b[2K\u001b[15A\u001b[2K\u001b[14A\u001b[2K\u001b[15A\u001b[2K\u001b[14A\u001b[2K\u001b[15A\u001b[2K\u001b[12A\u001b[2K\u001b[14A\u001b[2K\u001b[12A\u001b[2K\u001b[14A\u001b[2K\u001b[12A\u001b[2K\u001b[15A\u001b[2K\u001b[14A\u001b[2K\u001b[15A\u001b[2K\u001b[15A\u001b[2K\u001b[15A\u001b[2K\u001b[15A\u001b[2K\u001b[14A\u001b[2K\u001b[15A\u001b[2K\u001b[14A\u001b[2K\u001b[15A\u001b[2K\u001b[14A\u001b[2K\u001b[15A\u001b[2K\u001b[14A\u001b[2K\u001b[15A\u001b[2K\u001b[14A\u001b[2K\u001b[15A\u001b[2K\u001b[10A\u001b[2K\u001b[15A\u001b[2K\u001b[14A\u001b[2K\u001b[15A\u001b[2K\u001b[15A\u001b[2K\u001b[15A\u001b[2K\u001b[15A\u001b[2K\u001b[15A\u001b[2K\u001b[8A\u001b[2K\u001b[15A\u001b[2K\u001b[8A\u001b[2K\u001b[15A\u001b[2K\u001b[9A\u001b[2K\u001b[8A\u001b[2KDownloading    272kB/272kB\u001b[15A\u001b[2K\u001b[9A\u001b[2K\u001b[15A\u001b[2K\u001b[15A\u001b[2K\u001b[9A\u001b[2K\u001b[15A\u001b[2K\u001b[15A\u001b[2K\u001b[7A\u001b[2K\u001b[7A\u001b[2K\u001b[9A\u001b[2K\u001b[7A\u001b[2K\u001b[9A\u001b[2K\u001b[7A\u001b[2K\u001b[9A\u001b[2K\u001b[15A\u001b[2K\u001b[9A\u001b[2K\u001b[15A\u001b[2K\u001b[15A\u001b[2K\u001b[15A\u001b[2K\u001b[9A\u001b[2K\u001b[15A\u001b[2K\u001b[15A\u001b[2K\u001b[9A\u001b[2K\u001b[15A\u001b[2K\u001b[9A\u001b[2K\u001b[9A\u001b[2K\u001b[15A\u001b[2K\u001b[9A\u001b[2K\u001b[15A\u001b[2K\u001b[9A\u001b[2K\u001b[15A\u001b[2K\u001b[9A\u001b[2K\u001b[15A\u001b[2K\u001b[5A\u001b[2K\u001b[15A\u001b[2K\u001b[9A\u001b[2K\u001b[15A\u001b[2K\u001b[4A\u001b[2K\u001b[15A\u001b[2K\u001b[9A\u001b[2K\u001b[4A\u001b[2K\u001b[15A\u001b[2K\u001b[9A\u001b[2K\u001b[14A\u001b[2K\u001b[4A\u001b[2K\u001b[14A\u001b[2K\u001b[9A\u001b[2K\u001b[14A\u001b[2K\u001b[9A\u001b[2K\u001b[14A\u001b[2K\u001b[14A\u001b[2K\u001b[4A\u001b[2K\u001b[13A\u001b[2K\u001b[13A\u001b[2K\u001b[13A\u001b[2K\u001b[12A\u001b[2K\u001b[12A\u001b[2K\u001b[11A\u001b[2K\u001b[9A\u001b[2K\u001b[4A\u001b[2K\u001b[9A\u001b[2K\u001b[9A\u001b[2K\u001b[4A\u001b[2K\u001b[2A\u001b[2K\u001b[4A\u001b[2K\u001b[9A\u001b[2K\u001b[9A\u001b[2K\u001b[4A\u001b[2K\u001b[9A\u001b[2K\u001b[4A\u001b[2K\u001b[9A\u001b[2K\u001b[4A\u001b[2K\u001b[9A\u001b[2K\u001b[4A\u001b[2K\u001b[4A\u001b[2K\u001b[9A\u001b[2K\u001b[4A\u001b[2K\u001b[9A\u001b[2K\u001b[4A\u001b[2K\u001b[4A\u001b[2K\u001b[9A\u001b[2K\u001b[4A\u001b[2K\u001b[4A\u001b[2K\u001b[4A\u001b[2K\u001b[9A\u001b[2K\u001b[4A\u001b[2K\u001b[9A\u001b[2K\u001b[4A\u001b[2K\u001b[4A\u001b[2K\u001b[9A\u001b[2K\u001b[4A\u001b[2K\u001b[9A\u001b[2K\u001b[4A\u001b[2K\u001b[9A\u001b[2K\u001b[4A\u001b[2K\u001b[9A\u001b[2K\u001b[4A\u001b[2K\u001b[9A\u001b[2K\u001b[9A\u001b[2K\u001b[4A\u001b[2K\u001b[9A\u001b[2K\u001b[4A\u001b[2K\u001b[9A\u001b[2K\u001b[4A\u001b[2K\u001b[4A\u001b[2K\u001b[4A\u001b[2K\u001b[9A\u001b[2K\u001b[4A\u001b[2K\u001b[9A\u001b[2K\u001b[4A\u001b[2K\u001b[4A\u001b[2K\u001b[4A\u001b[2K\u001b[9A\u001b[2K\u001b[9A\u001b[2K\u001b[9A\u001b[2K\u001b[9A\u001b[2K\u001b[9A\u001b[2K\u001b[9A\u001b[2K\u001b[9A\u001b[2K\u001b[9A\u001b[2K\u001b[9A\u001b[2K\u001b[9A\u001b[2K\u001b[9A\u001b[2K\u001b[9A\u001b[2K\u001b[9A\u001b[2K\u001b[9A\u001b[2K\u001b[9A\u001b[2K\u001b[9A\u001b[2K\u001b[9A\u001b[2K\u001b[9A\u001b[2K\u001b[9A\u001b[2K\u001b[9A\u001b[2K\u001b[9A\u001b[2K\u001b[9A\u001b[2K\u001b[9A\u001b[2K\u001b[9A\u001b[2K\u001b[9A\u001b[2K\u001b[9A\u001b[2K\u001b[9A\u001b[2K\u001b[9A\u001b[2K\u001b[9A\u001b[2K\u001b[9A\u001b[2K\u001b[9A\u001b[2K\u001b[9A\u001b[2K\u001b[9A\u001b[2K\u001b[9A\u001b[2K\u001b[9A\u001b[2K\u001b[9A\u001b[2K\u001b[9A\u001b[2K\u001b[9A\u001b[2K\u001b[9A\u001b[2K\u001b[9A\u001b[2K\u001b[9A\u001b[2K\u001b[9A\u001b[2K\u001b[9A\u001b[2K\u001b[9A\u001b[2K\u001b[9A\u001b[2K\u001b[9A\u001b[2K\u001b[9A\u001b[2K\u001b[9A\u001b[2K\u001b[9A\u001b[2K\u001b[9A\u001b[2K\u001b[9A\u001b[2K\u001b[9A\u001b[2K\u001b[9A\u001b[2K\u001b[9A\u001b[2K\u001b[9A\u001b[2K\u001b[9A\u001b[2K\u001b[9A\u001b[2K\u001b[9A\u001b[2K\u001b[9A\u001b[2K\u001b[9A\u001b[2K\u001b[9A\u001b[2K\u001b[9A\u001b[2K\u001b[9A\u001b[2K\u001b[9A\u001b[2K\u001b[9A\u001b[2K\u001b[9A\u001b[2K\u001b[9A\u001b[2K\u001b[9A\u001b[2K\u001b[9A\u001b[2K\u001b[9A\u001b[2K\u001b[9A\u001b[2K\u001b[9A\u001b[2K\u001b[9A\u001b[2K\u001b[9A\u001b[2K\u001b[9A\u001b[2K\u001b[9A\u001b[2K\u001b[9A\u001b[2K\u001b[9A\u001b[2K\u001b[9A\u001b[2K\u001b[9A\u001b[2K\u001b[9A\u001b[2K\u001b[9A\u001b[2K\u001b[9A\u001b[2K\u001b[9A\u001b[2K\u001b[9A\u001b[2K\u001b[9A\u001b[2K\u001b[9A\u001b[2K\u001b[9A\u001b[2K\u001b[9A\u001b[2K\u001b[9A\u001b[2K\u001b[9A\u001b[2K\u001b[9A\u001b[2K\u001b[9A\u001b[2K\u001b[9A\u001b[2K\u001b[9A\u001b[2K\u001b[9A\u001b[2K\u001b[9A\u001b[2K\u001b[9A\u001b[2K\u001b[9A\u001b[2K\u001b[9A\u001b[2K\u001b[9A\u001b[2K\u001b[9A\u001b[2K\u001b[9A\u001b[2K\u001b[9A\u001b[2K\u001b[9A\u001b[2K\u001b[9A\u001b[2K\u001b[9A\u001b[2K\u001b[9A\u001b[2K\u001b[9A\u001b[2K\u001b[9A\u001b[2K\u001b[9A\u001b[2K\u001b[9A\u001b[2K\u001b[9A\u001b[2K\u001b[9A\u001b[2K\u001b[9A\u001b[2K\u001b[9A\u001b[2K\u001b[9A\u001b[2K\u001b[9A\u001b[2K\u001b[8A\u001b[2K\u001b[7A\u001b[2K\u001b[7A\u001b[2K\u001b[6A\u001b[2K\u001b[5A\u001b[2K\u001b[4A\u001b[2K\u001b[4A\u001b[2K\u001b[4A\u001b[2K\u001b[4A\u001b[2K\u001b[4A\u001b[2K\u001b[3A\u001b[2K\u001b[2A\u001b[2K\u001b[1A\u001b[2K\n",
      "Status: Downloaded newer image for elasticsearch:5.5.2\n",
      "docker.io/library/elasticsearch:5.5.2\n"
     ]
    }
   ],
   "source": [
    "!docker pull elasticsearch:5.5.2"
   ]
  },
  {
   "cell_type": "code",
   "execution_count": 5,
   "metadata": {},
   "outputs": [],
   "source": [
    "!wget https://andrewhalterman.com/files/geonames_index.tar.gz --output-file=wget_log.txt\n",
    "!tar -xzf geonames_index.tar.gz"
   ]
  },
  {
   "cell_type": "markdown",
   "metadata": {},
   "source": [
    "Note that I have to disable my antivirus software otherwise geonames_index is read only. Do this by: Windows Security > Virus & Threat protection settings > toggle off Real-time protection."
   ]
  },
  {
   "cell_type": "code",
   "execution_count": 2,
   "metadata": {},
   "outputs": [
    {
     "name": "stdout",
     "output_type": "stream",
     "text": [
      "docker: Error response from daemon: invalid mode: /usr/share/elasticsearch/data.\n",
      "See 'docker run --help'.\n"
     ]
    }
   ],
   "source": [
    "!docker run -d -p 127.0.0.1:9200:9200 -v C:/Users/dveytia/Python-working-folder/test-mordecai/geonames_index/:/usr/share/elasticsearch/data elasticsearch:5.5.2\n",
    "#!docker run -d -p 127.0.0.1:9200:9200 elasticsearch:5.5.2"
   ]
  },
  {
   "cell_type": "markdown",
   "metadata": {},
   "source": [
    "OR run:"
   ]
  },
  {
   "cell_type": "code",
   "execution_count": 3,
   "metadata": {},
   "outputs": [
    {
     "name": "stdout",
     "output_type": "stream",
     "text": [
      "d6c5a37d2c2d8c67efad99b249f8490f0576d0547a3645a11a7d38486a985fb5\n"
     ]
    }
   ],
   "source": [
    "!docker run -d -p 127.0.0.1:9200:9200 -v $(pwd)/geonames_index/:/usr/share/elasticsearch/data elasticsearch:5.5.2"
   ]
  },
  {
   "cell_type": "code",
   "execution_count": 4,
   "metadata": {},
   "outputs": [
    {
     "name": "stderr",
     "output_type": "stream",
     "text": [
      "2023-03-27 14:20:25.408146: I tensorflow/core/platform/cpu_feature_guard.cc:193] This TensorFlow binary is optimized with oneAPI Deep Neural Network Library (oneDNN) to use the following CPU instructions in performance-critical operations:  AVX2 AVX512F AVX512_VNNI FMA\n",
      "To enable them in other operations, rebuild TensorFlow with the appropriate compiler flags.\n",
      "2023-03-27 14:20:25.556105: I tensorflow/core/util/port.cc:104] oneDNN custom operations are on. You may see slightly different numerical results due to floating-point round-off errors from different computation orders. To turn them off, set the environment variable `TF_ENABLE_ONEDNN_OPTS=0`.\n",
      "2023-03-27 14:20:25.559812: W tensorflow/compiler/xla/stream_executor/platform/default/dso_loader.cc:64] Could not load dynamic library 'libcudart.so.11.0'; dlerror: libcudart.so.11.0: cannot open shared object file: No such file or directory\n",
      "2023-03-27 14:20:25.559827: I tensorflow/compiler/xla/stream_executor/cuda/cudart_stub.cc:29] Ignore above cudart dlerror if you do not have a GPU set up on your machine.\n",
      "2023-03-27 14:20:26.258149: W tensorflow/compiler/xla/stream_executor/platform/default/dso_loader.cc:64] Could not load dynamic library 'libnvinfer.so.7'; dlerror: libnvinfer.so.7: cannot open shared object file: No such file or directory\n",
      "2023-03-27 14:20:26.258196: W tensorflow/compiler/xla/stream_executor/platform/default/dso_loader.cc:64] Could not load dynamic library 'libnvinfer_plugin.so.7'; dlerror: libnvinfer_plugin.so.7: cannot open shared object file: No such file or directory\n",
      "2023-03-27 14:20:26.258201: W tensorflow/compiler/tf2tensorrt/utils/py_utils.cc:38] TF-TRT Warning: Cannot dlopen some TensorRT libraries. If you would like to use Nvidia GPU with TensorRT, please make sure the missing libraries mentioned above are installed properly.\n"
     ]
    }
   ],
   "source": [
    "from mordecai import Geoparser"
   ]
  },
  {
   "cell_type": "code",
   "execution_count": 5,
   "metadata": {},
   "outputs": [
    {
     "name": "stdout",
     "output_type": "stream",
     "text": [
      "Models path: /home/dveytia/.local/lib/python3.8/site-packages/mordecai/models/\n"
     ]
    },
    {
     "name": "stderr",
     "output_type": "stream",
     "text": [
      "2023-03-27 14:20:36.625352: W tensorflow/compiler/xla/stream_executor/platform/default/dso_loader.cc:64] Could not load dynamic library 'libcudart.so.11.0'; dlerror: libcudart.so.11.0: cannot open shared object file: No such file or directory\n",
      "2023-03-27 14:20:36.625405: W tensorflow/compiler/xla/stream_executor/platform/default/dso_loader.cc:64] Could not load dynamic library 'libcublas.so.11'; dlerror: libcublas.so.11: cannot open shared object file: No such file or directory\n",
      "2023-03-27 14:20:36.625433: W tensorflow/compiler/xla/stream_executor/platform/default/dso_loader.cc:64] Could not load dynamic library 'libcublasLt.so.11'; dlerror: libcublasLt.so.11: cannot open shared object file: No such file or directory\n",
      "2023-03-27 14:20:36.626927: W tensorflow/compiler/xla/stream_executor/platform/default/dso_loader.cc:64] Could not load dynamic library 'libcusolver.so.11'; dlerror: libcusolver.so.11: cannot open shared object file: No such file or directory\n",
      "2023-03-27 14:20:36.626962: W tensorflow/compiler/xla/stream_executor/platform/default/dso_loader.cc:64] Could not load dynamic library 'libcusparse.so.11'; dlerror: libcusparse.so.11: cannot open shared object file: No such file or directory\n",
      "2023-03-27 14:20:36.626986: W tensorflow/compiler/xla/stream_executor/platform/default/dso_loader.cc:64] Could not load dynamic library 'libcudnn.so.8'; dlerror: libcudnn.so.8: cannot open shared object file: No such file or directory\n",
      "2023-03-27 14:20:36.626995: W tensorflow/core/common_runtime/gpu/gpu_device.cc:1934] Cannot dlopen some GPU libraries. Please make sure the missing libraries mentioned above are installed properly if you would like to use GPU. Follow the guide at https://www.tensorflow.org/install/gpu for how to download and setup the required libraries for your platform.\n",
      "Skipping registering GPU devices...\n",
      "2023-03-27 14:20:36.627693: I tensorflow/core/platform/cpu_feature_guard.cc:193] This TensorFlow binary is optimized with oneAPI Deep Neural Network Library (oneDNN) to use the following CPU instructions in performance-critical operations:  AVX2 AVX512F AVX512_VNNI FMA\n",
      "To enable them in other operations, rebuild TensorFlow with the appropriate compiler flags.\n"
     ]
    }
   ],
   "source": [
    "geo = Geoparser()"
   ]
  },
  {
   "cell_type": "code",
   "execution_count": 6,
   "metadata": {},
   "outputs": [
    {
     "name": "stdout",
     "output_type": "stream",
     "text": [
      "1/1 [==============================] - 0s 185ms/step\n",
      "1/1 [==============================] - 0s 18ms/step\n",
      "1/1 [==============================] - 0s 19ms/step\n",
      "1/1 [==============================] - 0s 54ms/step\n",
      "1/1 [==============================] - 0s 18ms/step\n"
     ]
    },
    {
     "data": {
      "text/plain": [
       "[{'word': 'Oxford',\n",
       "  'spans': [{'start': 16, 'end': 22}],\n",
       "  'country_predicted': 'GBR',\n",
       "  'country_conf': 0.95718795,\n",
       "  'geo': {'admin1': 'England',\n",
       "   'lat': '51.75222',\n",
       "   'lon': '-1.25596',\n",
       "   'country_code3': 'GBR',\n",
       "   'geonameid': '2640729',\n",
       "   'place_name': 'Oxford',\n",
       "   'feature_class': 'P',\n",
       "   'feature_code': 'PPLA2'}},\n",
       " {'word': 'Ottawa',\n",
       "  'spans': [{'start': 26, 'end': 32}],\n",
       "  'country_predicted': 'CAN',\n",
       "  'country_conf': 0.87992215,\n",
       "  'geo': {'admin1': 'Ontario',\n",
       "   'lat': '45.41117',\n",
       "   'lon': '-75.69812',\n",
       "   'country_code3': 'CAN',\n",
       "   'geonameid': '6094817',\n",
       "   'place_name': 'Ottawa',\n",
       "   'feature_class': 'P',\n",
       "   'feature_code': 'PPLC'}}]"
      ]
     },
     "execution_count": 6,
     "metadata": {},
     "output_type": "execute_result"
    }
   ],
   "source": [
    "geo.geoparse(\"I traveled from Oxford to Ottawa.\")"
   ]
  },
  {
   "cell_type": "code",
   "execution_count": null,
   "metadata": {},
   "outputs": [],
   "source": []
  }
 ],
 "metadata": {
  "kernelspec": {
   "display_name": "mordecai_env_3.8",
   "language": "python",
   "name": "mordecai_env_3.8"
  },
  "language_info": {
   "codemirror_mode": {
    "name": "ipython",
    "version": 3
   },
   "file_extension": ".py",
   "mimetype": "text/x-python",
   "name": "python",
   "nbconvert_exporter": "python",
   "pygments_lexer": "ipython3",
   "version": "3.8.10"
  }
 },
 "nbformat": 4,
 "nbformat_minor": 4
}
